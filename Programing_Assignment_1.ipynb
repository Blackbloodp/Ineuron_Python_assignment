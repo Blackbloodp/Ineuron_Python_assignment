{
 "cells": [
  {
   "cell_type": "markdown",
   "id": "3ef7cc6a",
   "metadata": {},
   "source": [
    "1. Write a Python program to print &quot;Hello Python&quot;?"
   ]
  },
  {
   "cell_type": "code",
   "execution_count": 1,
   "id": "bb5aa540",
   "metadata": {},
   "outputs": [
    {
     "name": "stdout",
     "output_type": "stream",
     "text": [
      "Hellow Python\n"
     ]
    }
   ],
   "source": [
    "print(\"Hellow Python\")"
   ]
  },
  {
   "cell_type": "markdown",
   "id": "da32a697",
   "metadata": {},
   "source": [
    "2. Write a Python program to do arithmetical operations addition and division.?"
   ]
  },
  {
   "cell_type": "code",
   "execution_count": 2,
   "id": "887ec40a",
   "metadata": {},
   "outputs": [
    {
     "name": "stdout",
     "output_type": "stream",
     "text": [
      "6\n",
      "5\n",
      "Addition of 6 & 5 is 11 \n",
      "Division of 6 & 5 is 1.2 "
     ]
    }
   ],
   "source": [
    "a = int(input())\n",
    "b = int(input())\n",
    "c = a+b\n",
    "d = a/b\n",
    "print(\"Addition of\", a, \"&\", b, \"is\", c, end = \" \",)\n",
    "print(end = \"\\n\")\n",
    "print(\"Division of\", a, \"&\", b, \"is\", d, end = \" \")"
   ]
  },
  {
   "cell_type": "markdown",
   "id": "057c7c84",
   "metadata": {},
   "source": [
    "3. Write a Python program to find the area of a triangle?"
   ]
  },
  {
   "cell_type": "code",
   "execution_count": 3,
   "id": "902dc313",
   "metadata": {},
   "outputs": [
    {
     "name": "stdout",
     "output_type": "stream",
     "text": [
      "Input base dimention\n",
      "15\n",
      "Input hight dimention\n",
      "25\n",
      "Area of the triangle is 187.5 "
     ]
    }
   ],
   "source": [
    "print(\"Input base dimention\")\n",
    "base = int(input())\n",
    "print(\"Input hight dimention\")\n",
    "hight = int(input())\n",
    "Area = 0.5*base*hight\n",
    "print(\"Area of the triangle is\", Area, end = \" \")"
   ]
  },
  {
   "cell_type": "markdown",
   "id": "1c85e9b8",
   "metadata": {},
   "source": [
    "4. Write a Python program to swap two variables?"
   ]
  },
  {
   "cell_type": "code",
   "execution_count": 4,
   "id": "abf5f29b",
   "metadata": {},
   "outputs": [
    {
     "name": "stdout",
     "output_type": "stream",
     "text": [
      "x is 6 and y is 5 "
     ]
    }
   ],
   "source": [
    "# the 2 variables x and y\n",
    "x = 5\n",
    "y = 6\n",
    "# Swaping x and y values\n",
    "z = x\n",
    "x = y\n",
    "y = z\n",
    "print(\"x is\", x,\"and y is\",y,end = \" \")"
   ]
  },
  {
   "cell_type": "markdown",
   "id": "db27ebf4",
   "metadata": {},
   "source": [
    "5. Write a Python program to generate a random number?"
   ]
  },
  {
   "cell_type": "code",
   "execution_count": 5,
   "id": "d12703b3",
   "metadata": {},
   "outputs": [
    {
     "name": "stdout",
     "output_type": "stream",
     "text": [
      "45\n"
     ]
    }
   ],
   "source": [
    "import random as rand\n",
    "\n",
    "print(rand.randint(0,1000))"
   ]
  }
 ],
 "metadata": {
  "kernelspec": {
   "display_name": "Python 3 (ipykernel)",
   "language": "python",
   "name": "python3"
  },
  "language_info": {
   "codemirror_mode": {
    "name": "ipython",
    "version": 3
   },
   "file_extension": ".py",
   "mimetype": "text/x-python",
   "name": "python",
   "nbconvert_exporter": "python",
   "pygments_lexer": "ipython3",
   "version": "3.9.13"
  }
 },
 "nbformat": 4,
 "nbformat_minor": 5
}
