{
 "cells": [
  {
   "cell_type": "markdown",
   "id": "6423539d",
   "metadata": {},
   "source": [
    "1. Write a Python program to convert kilometers to miles?"
   ]
  },
  {
   "cell_type": "code",
   "execution_count": 2,
   "id": "13db8304",
   "metadata": {},
   "outputs": [
    {
     "name": "stdout",
     "output_type": "stream",
     "text": [
      "Enter length value in km = \n",
      "56\n",
      "the value of 56 in miles is 34.80422622747048 "
     ]
    }
   ],
   "source": [
    "# To convert Km to miles we need to myltiple the km value with 1.6\n",
    "print(\"Enter length value in km = \")\n",
    "km = int(input())\n",
    "miles = km/1.609\n",
    "print(\"the value of\", km, \"in miles is\", miles, end = \" \")"
   ]
  },
  {
   "cell_type": "markdown",
   "id": "7a9b48d6",
   "metadata": {},
   "source": [
    "2. Write a Python program to convert Celsius to Fahrenheit?"
   ]
  },
  {
   "cell_type": "code",
   "execution_count": 4,
   "id": "a59ef022",
   "metadata": {},
   "outputs": [
    {
     "name": "stdout",
     "output_type": "stream",
     "text": [
      "Enter the temperature value in degree C = 60\n",
      "Temperature in degree Fahernheit is 140.0 "
     ]
    }
   ],
   "source": [
    "# to convert celsius to fahernheit we have a formula \n",
    "# Fahrenheit (°F) = (Temperature in degrees Celsius (°C) * 9/5) + 32\n",
    "degree_c = int(input(\"Enter the temperature value in degree C = \"))\n",
    "degree_f = (degree_c*9/5)+32\n",
    "print(\"Temperature in degree Fahernheit is\",degree_f,end = \" \")"
   ]
  },
  {
   "cell_type": "markdown",
   "id": "a2536024",
   "metadata": {},
   "source": [
    "3. Write a Python program to display calendar?"
   ]
  },
  {
   "cell_type": "code",
   "execution_count": 6,
   "id": "fa24a683",
   "metadata": {},
   "outputs": [
    {
     "name": "stdout",
     "output_type": "stream",
     "text": [
      "Enter year: 2023\n",
      "Enter month: 12\n",
      "   December 2023\n",
      "Mo Tu We Th Fr Sa Su\n",
      "             1  2  3\n",
      " 4  5  6  7  8  9 10\n",
      "11 12 13 14 15 16 17\n",
      "18 19 20 21 22 23 24\n",
      "25 26 27 28 29 30 31\n",
      "\n"
     ]
    }
   ],
   "source": [
    "# To display the calendar we need to import calendar module\n",
    "\n",
    "import calendar # importing calendar module\n",
    "\n",
    "# To take month and year input from the user\n",
    "year = int(input(\"Enter year: \"))\n",
    "month = int(input(\"Enter month: \"))\n",
    "\n",
    "print(calendar.month(year, month)) # display the calendar"
   ]
  },
  {
   "cell_type": "markdown",
   "id": "0a3633af",
   "metadata": {},
   "source": [
    "4. Write a Python program to solve quadratic equation?"
   ]
  },
  {
   "cell_type": "code",
   "execution_count": 9,
   "id": "56a91077",
   "metadata": {},
   "outputs": [
    {
     "name": "stdout",
     "output_type": "stream",
     "text": [
      "Enter the value of a = 6\n",
      "Enter the value of b = -17\n",
      "Enter the value of c = 12\n",
      "The quadrictic equation is  6 x^2  + ( -17 )x  +  12\n",
      "The solution of the quadratic equation is  (1.5+0j) and (1.3333333333333333+0j) "
     ]
    }
   ],
   "source": [
    "# A quadratic eqation is ax^2 + bx + c = 0\n",
    "# For this we need to import cmath module for squre root function\n",
    "# First input the 2 coefficiant (a and b) and the constant (c)\n",
    "\n",
    "import cmath\n",
    "\n",
    "a = int(input(\"Enter the value of a = \"))\n",
    "b = int(input(\"Enter the value of b = \"))\n",
    "c = int(input(\"Enter the value of c = \"))\n",
    "\n",
    "# The quadratic equation\n",
    "print(\"The quadrictic equation is \",a,\"x^2\",\" + (\",b, \")x\",\" + \",c)\n",
    "\n",
    "# calculating the squar root value\n",
    "d = (b**2) - (4*a*c) \n",
    "\n",
    "# A Quadractic equation has 2 solutions x1 and x2\n",
    "\n",
    "x1 = (-b + cmath.sqrt(d))/(2*a)\n",
    "x2 = (-b - cmath.sqrt(d))/(2*a)\n",
    "\n",
    "# Solution\n",
    "print(\"The solution of the quadratic equation is \",x1, \"and\", x2, end = \" \")"
   ]
  },
  {
   "cell_type": "markdown",
   "id": "4303e968",
   "metadata": {},
   "source": [
    "5. Write a Python program to swap two variables without temp variable?"
   ]
  },
  {
   "cell_type": "code",
   "execution_count": 10,
   "id": "95fb6199",
   "metadata": {},
   "outputs": [
    {
     "name": "stdout",
     "output_type": "stream",
     "text": [
      "Value of x is  6\n",
      "Value of y is  5\n"
     ]
    }
   ],
   "source": [
    "x = 5\n",
    "y = 6\n",
    "x, y = y, x\n",
    "print(\"Value of x is \",x)\n",
    "print(\"Value of y is \",y)"
   ]
  }
 ],
 "metadata": {
  "kernelspec": {
   "display_name": "Python 3 (ipykernel)",
   "language": "python",
   "name": "python3"
  },
  "language_info": {
   "codemirror_mode": {
    "name": "ipython",
    "version": 3
   },
   "file_extension": ".py",
   "mimetype": "text/x-python",
   "name": "python",
   "nbconvert_exporter": "python",
   "pygments_lexer": "ipython3",
   "version": "3.9.13"
  }
 },
 "nbformat": 4,
 "nbformat_minor": 5
}
