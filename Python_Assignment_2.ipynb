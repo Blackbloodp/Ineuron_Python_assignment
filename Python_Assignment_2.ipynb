{
 "cells": [
  {
   "cell_type": "markdown",
   "id": "8945ef9c",
   "metadata": {},
   "source": [
    "1. What are the two values of the Boolean data type? How do you write them?"
   ]
  },
  {
   "cell_type": "code",
   "execution_count": 1,
   "id": "f5741ece",
   "metadata": {},
   "outputs": [
    {
     "data": {
      "text/plain": [
       "'\\nThere are 2 Boolean data types \\nTRUE and FALSE\\n'"
      ]
     },
     "execution_count": 1,
     "metadata": {},
     "output_type": "execute_result"
    }
   ],
   "source": [
    "\"\"\"\n",
    "There are 2 Boolean data types \n",
    "TRUE and FALSE\n",
    "\"\"\""
   ]
  },
  {
   "cell_type": "code",
   "execution_count": 3,
   "id": "e202c335",
   "metadata": {},
   "outputs": [
    {
     "data": {
      "text/plain": [
       "True"
      ]
     },
     "execution_count": 3,
     "metadata": {},
     "output_type": "execute_result"
    }
   ],
   "source": [
    "# Example of TRUE\n",
    "a = 5\n",
    "a == 5"
   ]
  },
  {
   "cell_type": "code",
   "execution_count": 4,
   "id": "465bc2dc",
   "metadata": {},
   "outputs": [
    {
     "data": {
      "text/plain": [
       "False"
      ]
     },
     "execution_count": 4,
     "metadata": {},
     "output_type": "execute_result"
    }
   ],
   "source": [
    "# Example of TRUE\n",
    "a = 5\n",
    "a == 4"
   ]
  },
  {
   "cell_type": "code",
   "execution_count": 5,
   "id": "f4f223d9",
   "metadata": {},
   "outputs": [
    {
     "data": {
      "text/plain": [
       "1"
      ]
     },
     "execution_count": 5,
     "metadata": {},
     "output_type": "execute_result"
    }
   ],
   "source": [
    "# We can also use TRUE as 1 and FALSE as 0 in an expresion\n",
    "True + False"
   ]
  },
  {
   "cell_type": "code",
   "execution_count": 10,
   "id": "ddce2d01",
   "metadata": {},
   "outputs": [],
   "source": [
    "# Or\n",
    "a = 25\n",
    "b = a + True*10 - (False+2*True)"
   ]
  },
  {
   "cell_type": "code",
   "execution_count": 11,
   "id": "db7ef12f",
   "metadata": {},
   "outputs": [
    {
     "data": {
      "text/plain": [
       "33"
      ]
     },
     "execution_count": 11,
     "metadata": {},
     "output_type": "execute_result"
    }
   ],
   "source": [
    "b"
   ]
  },
  {
   "cell_type": "markdown",
   "id": "3153312b",
   "metadata": {},
   "source": [
    "2. What are the three different types of Boolean operators?"
   ]
  },
  {
   "cell_type": "code",
   "execution_count": 14,
   "id": "09680e53",
   "metadata": {},
   "outputs": [
    {
     "data": {
      "text/plain": [
       "'\\n3 Types of Boolean oprators are \\nAND\\nOR  \\nNOT\\n'"
      ]
     },
     "execution_count": 14,
     "metadata": {},
     "output_type": "execute_result"
    }
   ],
   "source": [
    "\"\"\"\n",
    "3 Types of Boolean oprators are \n",
    "AND\n",
    "OR  \n",
    "NOT\n",
    "\"\"\""
   ]
  },
  {
   "cell_type": "markdown",
   "id": "2981a6a5",
   "metadata": {},
   "source": [
    "3. Make a list of each Boolean operator&#39;s truth tables (i.e. every possible combination of Boolean\n",
    "values for the operator and what it evaluate )."
   ]
  },
  {
   "cell_type": "code",
   "execution_count": null,
   "id": "00a24ca1",
   "metadata": {},
   "outputs": [],
   "source": [
    "\"\"\"\n",
    "Truth Table for AND Operator\n",
    "A        B        A and B\n",
    "True  -  True  =  True\n",
    "False -  True  =  False\n",
    "True  -  False =  False\n",
    "False -  False =  False\n",
    "\"\"\""
   ]
  },
  {
   "cell_type": "code",
   "execution_count": null,
   "id": "851c81e4",
   "metadata": {},
   "outputs": [],
   "source": [
    "\"\"\"\n",
    "Truth Table for OR Operator\n",
    "A        B        A and B\n",
    "True  -  True  =  True\n",
    "False -  True  =  True\n",
    "True  -  False =  True\n",
    "False -  False =  False\n",
    "\"\"\""
   ]
  },
  {
   "cell_type": "code",
   "execution_count": null,
   "id": "af921590",
   "metadata": {},
   "outputs": [],
   "source": [
    "\"\"\"\n",
    "Truth Table for NOT Operator\n",
    "A        not A\n",
    "True  =  False\n",
    "False =  True\n",
    "\"\"\""
   ]
  },
  {
   "cell_type": "markdown",
   "id": "ad174da1",
   "metadata": {},
   "source": [
    "4. What are the values of the following expressions?\n",
    "(5 &gt; 4) and (3 == 5)\n",
    "not (5 &gt; 4)\n",
    "(5 &gt; 4) or (3 == 5)\n",
    "not ((5 &gt; 4) or (3 == 5))\n",
    "(True and True) and (True == False)\n",
    "(not False) or (not True)"
   ]
  },
  {
   "cell_type": "code",
   "execution_count": 15,
   "id": "df790b16",
   "metadata": {},
   "outputs": [
    {
     "data": {
      "text/plain": [
       "False"
      ]
     },
     "execution_count": 15,
     "metadata": {},
     "output_type": "execute_result"
    }
   ],
   "source": [
    "(5 > 4) and (3 == 5)\n",
    "\n",
    "# So True and False = False"
   ]
  },
  {
   "cell_type": "code",
   "execution_count": 16,
   "id": "9653e748",
   "metadata": {},
   "outputs": [
    {
     "data": {
      "text/plain": [
       "False"
      ]
     },
     "execution_count": 16,
     "metadata": {},
     "output_type": "execute_result"
    }
   ],
   "source": [
    "not (5>4)\n",
    "\n",
    "# not True = False"
   ]
  },
  {
   "cell_type": "code",
   "execution_count": 17,
   "id": "4fa43c9e",
   "metadata": {},
   "outputs": [
    {
     "data": {
      "text/plain": [
       "True"
      ]
     },
     "execution_count": 17,
     "metadata": {},
     "output_type": "execute_result"
    }
   ],
   "source": [
    "(5 > 4) or (3 == 5)\n",
    "\n",
    "# True or False = True"
   ]
  },
  {
   "cell_type": "code",
   "execution_count": 18,
   "id": "b54111ba",
   "metadata": {},
   "outputs": [
    {
     "data": {
      "text/plain": [
       "False"
      ]
     },
     "execution_count": 18,
     "metadata": {},
     "output_type": "execute_result"
    }
   ],
   "source": [
    "not ((5 > 4) or (3 == 5))\n",
    "\n",
    "# not (True or False) = not True = False"
   ]
  },
  {
   "cell_type": "code",
   "execution_count": 19,
   "id": "74386461",
   "metadata": {},
   "outputs": [
    {
     "data": {
      "text/plain": [
       "False"
      ]
     },
     "execution_count": 19,
     "metadata": {},
     "output_type": "execute_result"
    }
   ],
   "source": [
    "(True and True) and (True == False)\n",
    "\n",
    "# (True and True) = True\n",
    "# (True == False) = False\n",
    "# True and False = False"
   ]
  },
  {
   "cell_type": "code",
   "execution_count": 20,
   "id": "b7495dcb",
   "metadata": {},
   "outputs": [
    {
     "data": {
      "text/plain": [
       "True"
      ]
     },
     "execution_count": 20,
     "metadata": {},
     "output_type": "execute_result"
    }
   ],
   "source": [
    "(not False) or (not True)\n",
    "\n",
    "# not Flase = True\n",
    "# not True = False\n",
    "# True or False = True"
   ]
  },
  {
   "cell_type": "markdown",
   "id": "c3a9a70c",
   "metadata": {},
   "source": [
    "5. What are the six comparison operators?"
   ]
  },
  {
   "cell_type": "code",
   "execution_count": null,
   "id": "13d597f1",
   "metadata": {},
   "outputs": [],
   "source": [
    "\"\"\"\n",
    "1st:- Greater than '>'\n",
    "Example: \n",
    "a > b (means a is greater then b)\n",
    "\n",
    "2nd:- less then \"<\"\n",
    "Example:\n",
    "a < b (means a is lsser then b)\n",
    "\n",
    "3rd:- Equal to \"==\"\n",
    "Example:\n",
    "a == b (Means a is equal to b)\n",
    "\n",
    "4th:- Not equal to \"!=\"\n",
    "Example:\n",
    "a != b (Means a is not equal to b)\n",
    "\n",
    "5th:- Grether then or equal to \">=\"\n",
    "Example:\n",
    "a >= b (Means a is greater then or equal to b)\n",
    "\n",
    "6th:- Less then or equal to \"<=\"\n",
    "Example:\n",
    "a <= b (Mean a is less then or equal to b)\n",
    "\"\"\""
   ]
  },
  {
   "cell_type": "markdown",
   "id": "fdd79705",
   "metadata": {},
   "source": [
    "6. How do you tell the difference between the equal to and assignment operators?Describe a\n",
    "condition and when you would use one."
   ]
  },
  {
   "cell_type": "code",
   "execution_count": null,
   "id": "b575a198",
   "metadata": {},
   "outputs": [],
   "source": [
    "\"\"\"\n",
    "Assignment operator is to assign a variable to a value o expression\n",
    "where in an equal to operator is to check whethere 3 statments are equal to each other or not\n",
    "\"\"\""
   ]
  },
  {
   "cell_type": "code",
   "execution_count": 21,
   "id": "68aa11aa",
   "metadata": {},
   "outputs": [
    {
     "data": {
      "text/plain": [
       "False"
      ]
     },
     "execution_count": 21,
     "metadata": {},
     "output_type": "execute_result"
    }
   ],
   "source": [
    "# Example\n",
    "a = 5 # Here a is assigned a value 5\n",
    "a == 4 # here the program will check whether a is equal to 4 or not"
   ]
  },
  {
   "cell_type": "markdown",
   "id": "1bb9405c",
   "metadata": {},
   "source": [
    "7. Identify the three blocks in this code:\n",
    "spam = 0\n",
    "if spam == 10:\n",
    "print(&#39;eggs&#39;)\n",
    "if spam &gt; 5:\n",
    "print(&#39;bacon&#39;)\n",
    "else:\n",
    "print(&#39;ham&#39;)\n",
    "print(&#39;spam&#39;)\n",
    "print(&#39;spam&#39;)"
   ]
  },
  {
   "cell_type": "code",
   "execution_count": 22,
   "id": "7921a070",
   "metadata": {},
   "outputs": [
    {
     "name": "stdout",
     "output_type": "stream",
     "text": [
      "ham\n",
      "spam\n",
      "spam\n"
     ]
    }
   ],
   "source": [
    "spam = 0\n",
    "if spam == 10:         # Block 1 start\n",
    "    print(\"eggs\")      # Block 1 end\n",
    "if spam > 5:           # Block 2 start\n",
    "    print(\"bacon\")     # Block 2 end\n",
    "else:                  # Block 3 start\n",
    "    print(\"ham\")\n",
    "    print(\"spam\")\n",
    "    print(\"spam\")      # Block 3 end"
   ]
  },
  {
   "cell_type": "markdown",
   "id": "375d1374",
   "metadata": {},
   "source": [
    "8. Write code that prints Hello if 1 is stored in spam, prints Howdy if 2 is stored in spam, and prints\n",
    "Greetings! if anything else is stored in spam."
   ]
  },
  {
   "cell_type": "code",
   "execution_count": 24,
   "id": "1541e621",
   "metadata": {},
   "outputs": [
    {
     "name": "stdout",
     "output_type": "stream",
     "text": [
      "1\n",
      "Hellow\n",
      "Greatings\n"
     ]
    }
   ],
   "source": [
    "spam = int(input())\n",
    "if spam == 1:\n",
    "    print(\"Hellow\")\n",
    "if spam == 2:\n",
    "    print(\"Howdy\")\n",
    "else:\n",
    "    print(\"Greatings\")"
   ]
  },
  {
   "cell_type": "markdown",
   "id": "4d81135c",
   "metadata": {},
   "source": [
    "9. If your programme is stuck in an endless loop, what keys you’ll press?"
   ]
  },
  {
   "cell_type": "code",
   "execution_count": 25,
   "id": "7adcf0d1",
   "metadata": {},
   "outputs": [],
   "source": [
    "# Cltr + C to break the end loop"
   ]
  },
  {
   "cell_type": "markdown",
   "id": "dabba92b",
   "metadata": {},
   "source": [
    "10. How can you tell the difference between break and continue?"
   ]
  },
  {
   "cell_type": "code",
   "execution_count": null,
   "id": "3a1274e6",
   "metadata": {},
   "outputs": [],
   "source": [
    "\"\"\"\n",
    "Break statment will terminate the all future iterations of the loop\n",
    "where as continue will only stop the current iteration and moves to next iteration of the loop\n",
    "\"\"\""
   ]
  },
  {
   "cell_type": "code",
   "execution_count": 26,
   "id": "2db3f1c7",
   "metadata": {},
   "outputs": [
    {
     "name": "stdout",
     "output_type": "stream",
     "text": [
      "k\n",
      "u\n",
      "h\n"
     ]
    }
   ],
   "source": [
    "# Example Continue\n",
    "\n",
    "a = \"kush\"\n",
    "for i in a:\n",
    "    if i == \"s\":\n",
    "        continue\n",
    "    print(i)"
   ]
  },
  {
   "cell_type": "code",
   "execution_count": 28,
   "id": "888871f6",
   "metadata": {},
   "outputs": [
    {
     "name": "stdout",
     "output_type": "stream",
     "text": [
      "k\n",
      "u\n"
     ]
    }
   ],
   "source": [
    "# Example Break\n",
    "\n",
    "a = \"kush\"\n",
    "for i in a:\n",
    "    if i == \"s\":\n",
    "        break\n",
    "    print(i)"
   ]
  },
  {
   "cell_type": "markdown",
   "id": "2c530d59",
   "metadata": {},
   "source": [
    "11. In a for loop, what is the difference between range(10), range(0, 10), and range(0, 10, 1)?"
   ]
  },
  {
   "cell_type": "code",
   "execution_count": 29,
   "id": "0b9aac88",
   "metadata": {},
   "outputs": [
    {
     "name": "stdout",
     "output_type": "stream",
     "text": [
      "0\n",
      "1\n",
      "2\n",
      "3\n",
      "4\n",
      "5\n",
      "6\n",
      "7\n",
      "8\n",
      "9\n"
     ]
    }
   ],
   "source": [
    "\"\"\"\n",
    "In a for loop range(0,10), range(0,10,1) and range(10) will give the smae output \n",
    "because python is taking the 1st 0 and the last 1 as default. \n",
    "\n",
    "the first 0 in range(0,10) is the starting point\n",
    "if we write range(2,10) the value will start form 2 to 10 (Example in line 30)\n",
    "\n",
    "The 2nd 10 in range(0,10,1) menas the last limit of the position, \n",
    "Means the range will go to the 10th position\n",
    "So we start from 0 and go till 9 (9 will be the 10th postion)\n",
    "to print the value 10 we have to go with range(11)\n",
    "\n",
    "and the 3rd 1 means the jump the program will take\n",
    "By defaulyt its 1, but if we write 2 it will print every 2nd value \n",
    "Example in line 31 where it jumps every 3 value\n",
    "We can also give -1 so it will jump in reverse,\n",
    "but for -1 we have to change the start point and end position \n",
    "Example in line 32\n",
    "\"\"\"\n",
    "for i in range(10):\n",
    "    print(i)"
   ]
  },
  {
   "cell_type": "code",
   "execution_count": 30,
   "id": "a230e3a5",
   "metadata": {},
   "outputs": [
    {
     "name": "stdout",
     "output_type": "stream",
     "text": [
      "2\n",
      "3\n",
      "4\n",
      "5\n",
      "6\n",
      "7\n",
      "8\n",
      "9\n"
     ]
    }
   ],
   "source": [
    "for i in range(2,10):\n",
    "    print(i)"
   ]
  },
  {
   "cell_type": "code",
   "execution_count": 31,
   "id": "c995f920",
   "metadata": {},
   "outputs": [
    {
     "name": "stdout",
     "output_type": "stream",
     "text": [
      "2\n",
      "5\n",
      "8\n",
      "11\n",
      "14\n",
      "17\n"
     ]
    }
   ],
   "source": [
    "for i in range(2,20,3):\n",
    "    print(i)"
   ]
  },
  {
   "cell_type": "code",
   "execution_count": 32,
   "id": "c5b96ff1",
   "metadata": {},
   "outputs": [
    {
     "name": "stdout",
     "output_type": "stream",
     "text": [
      "10\n",
      "8\n",
      "6\n",
      "4\n"
     ]
    }
   ],
   "source": [
    "for i in range(10,2,-2):\n",
    "    print(i)"
   ]
  },
  {
   "cell_type": "markdown",
   "id": "11385b0d",
   "metadata": {},
   "source": [
    "12. Write a short program that prints the numbers 1 to 10 using a for loop. Then write an equivalent\n",
    "program that prints the numbers 1 to 10 using a while loop."
   ]
  },
  {
   "cell_type": "code",
   "execution_count": 33,
   "id": "c11c095a",
   "metadata": {},
   "outputs": [
    {
     "name": "stdout",
     "output_type": "stream",
     "text": [
      "1\n",
      "2\n",
      "3\n",
      "4\n",
      "5\n",
      "6\n",
      "7\n",
      "8\n",
      "9\n",
      "10\n"
     ]
    }
   ],
   "source": [
    "# with For loop\n",
    "\n",
    "for i in range(1,11):\n",
    "    print(i)"
   ]
  },
  {
   "cell_type": "code",
   "execution_count": 1,
   "id": "f7dfebb4",
   "metadata": {},
   "outputs": [
    {
     "name": "stdout",
     "output_type": "stream",
     "text": [
      "1\n",
      "2\n",
      "3\n",
      "4\n",
      "5\n",
      "6\n",
      "7\n",
      "8\n",
      "9\n",
      "10\n",
      "11\n",
      "12\n"
     ]
    }
   ],
   "source": [
    "# With while loop\n",
    "\n",
    "a = 0\n",
    "while a < 12:\n",
    "    a = a + 1\n",
    "    print(a)"
   ]
  },
  {
   "cell_type": "markdown",
   "id": "a30038b3",
   "metadata": {},
   "source": [
    "13. If you had a function named bacon() inside a module named spam, how would you call it after\n",
    "importing spam?"
   ]
  },
  {
   "cell_type": "code",
   "execution_count": null,
   "id": "8999095f",
   "metadata": {},
   "outputs": [],
   "source": [
    "# Will the function bacan() as follows\n",
    "import spam\n",
    "a = spam.bacon()"
   ]
  }
 ],
 "metadata": {
  "kernelspec": {
   "display_name": "Python 3 (ipykernel)",
   "language": "python",
   "name": "python3"
  },
  "language_info": {
   "codemirror_mode": {
    "name": "ipython",
    "version": 3
   },
   "file_extension": ".py",
   "mimetype": "text/x-python",
   "name": "python",
   "nbconvert_exporter": "python",
   "pygments_lexer": "ipython3",
   "version": "3.9.13"
  }
 },
 "nbformat": 4,
 "nbformat_minor": 5
}
