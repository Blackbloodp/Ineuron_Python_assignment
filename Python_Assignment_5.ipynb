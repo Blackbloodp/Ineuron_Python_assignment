{
  "nbformat": 4,
  "nbformat_minor": 0,
  "metadata": {
    "colab": {
      "provenance": []
    },
    "kernelspec": {
      "name": "python3",
      "display_name": "Python 3"
    },
    "language_info": {
      "name": "python"
    }
  },
  "cells": [
    {
      "cell_type": "markdown",
      "source": [
        "1. What does an empty dictionary&#39;s code look like?"
      ],
      "metadata": {
        "id": "oiIx36PggCNQ"
      }
    },
    {
      "cell_type": "code",
      "source": [
        "# An empty dictionary\n",
        "\n",
        "d = {}\n",
        "type(d)"
      ],
      "metadata": {
        "colab": {
          "base_uri": "https://localhost:8080/"
        },
        "id": "TiDXdEgqgFPA",
        "outputId": "f63cc095-fdee-4751-f213-7a04736e2855"
      },
      "execution_count": null,
      "outputs": [
        {
          "output_type": "execute_result",
          "data": {
            "text/plain": [
              "dict"
            ]
          },
          "metadata": {},
          "execution_count": 2
        }
      ]
    },
    {
      "cell_type": "markdown",
      "source": [
        "2. What is the value of a dictionary value with the key &#39;foo&#39; and the value 42?"
      ],
      "metadata": {
        "id": "T6OJlrcvghl_"
      }
    },
    {
      "cell_type": "code",
      "source": [
        "d1 = {\"foo\":42}\n",
        "\n",
        "# Here key is \"foo\" and the value assigned to that key is 42"
      ],
      "metadata": {
        "id": "ojrVrTKzgOHa"
      },
      "execution_count": null,
      "outputs": []
    },
    {
      "cell_type": "markdown",
      "source": [
        "3. What is the most significant distinction between a dictionary and a list?"
      ],
      "metadata": {
        "id": "WY2whSHmgzm4"
      }
    },
    {
      "cell_type": "code",
      "source": [
        "\"\"\"\n",
        "List is a sequence data type which uses integers (0,1,2,3,,,,) as indices to store data in it.\n",
        "Lists are ordered and mutable\n",
        "\n",
        "Where as dictionary is a non-sequence (compound) data type which stores data in key:value pair.\n",
        "Dictionaries are non-ordered and mutable\n",
        "\"\"\""
      ],
      "metadata": {
        "id": "Y_gkNFzvgwCv"
      },
      "execution_count": null,
      "outputs": []
    },
    {
      "cell_type": "markdown",
      "source": [
        "4. What happens if you try to access spam[&#39;foo&#39;] if spam is {&#39;bar&#39;: 100}?"
      ],
      "metadata": {
        "id": "GKC8KLsJi-kA"
      }
    },
    {
      "cell_type": "code",
      "source": [
        "# It will show an key error\n",
        "# Because 'foo' is not there in spam dictionary\n",
        "spam = {'bar' : 100}\n",
        "print(spam['foo'])"
      ],
      "metadata": {
        "colab": {
          "base_uri": "https://localhost:8080/",
          "height": 200
        },
        "id": "RAyqQM7Fi-_g",
        "outputId": "e5317181-eee7-4485-e7d3-704f1ccedd31"
      },
      "execution_count": null,
      "outputs": [
        {
          "output_type": "error",
          "ename": "KeyError",
          "evalue": "ignored",
          "traceback": [
            "\u001b[0;31m---------------------------------------------------------------------------\u001b[0m",
            "\u001b[0;31mKeyError\u001b[0m                                  Traceback (most recent call last)",
            "\u001b[0;32m<ipython-input-4-5b93f9e20fb5>\u001b[0m in \u001b[0;36m<cell line: 3>\u001b[0;34m()\u001b[0m\n\u001b[1;32m      1\u001b[0m \u001b[0;31m#\u001b[0m\u001b[0;34m\u001b[0m\u001b[0;34m\u001b[0m\u001b[0m\n\u001b[1;32m      2\u001b[0m \u001b[0mspam\u001b[0m \u001b[0;34m=\u001b[0m \u001b[0;34m{\u001b[0m\u001b[0;34m'bar'\u001b[0m \u001b[0;34m:\u001b[0m \u001b[0;36m100\u001b[0m\u001b[0;34m}\u001b[0m\u001b[0;34m\u001b[0m\u001b[0;34m\u001b[0m\u001b[0m\n\u001b[0;32m----> 3\u001b[0;31m \u001b[0mprint\u001b[0m\u001b[0;34m(\u001b[0m\u001b[0mspam\u001b[0m\u001b[0;34m[\u001b[0m\u001b[0;34m'foo'\u001b[0m\u001b[0;34m]\u001b[0m\u001b[0;34m)\u001b[0m\u001b[0;34m\u001b[0m\u001b[0;34m\u001b[0m\u001b[0m\n\u001b[0m",
            "\u001b[0;31mKeyError\u001b[0m: 'foo'"
          ]
        }
      ]
    },
    {
      "cell_type": "markdown",
      "source": [
        "5. If a dictionary is stored in spam, what is the difference between the expressions &#39;cat&#39; in spam and\n",
        "&#39;cat&#39; in spam.keys()?"
      ],
      "metadata": {
        "id": "JlMNiFJhjjMA"
      }
    },
    {
      "cell_type": "code",
      "source": [
        "# If 'cat' is a key stored in dictionay spam\n",
        "# then the statment 'cat' in spam and 'cat' in spam.keys() are the same\n",
        "# because both of the statment check for a key in spam dictionary\n",
        "# and both gives a boolean output if its True or False.\n",
        "spam = {'cat': 45}\n",
        "'cat' in spam"
      ],
      "metadata": {
        "colab": {
          "base_uri": "https://localhost:8080/"
        },
        "id": "jpDXJmFFjMAy",
        "outputId": "36928ae3-4a46-4ed7-995c-9c8dac584b9f"
      },
      "execution_count": null,
      "outputs": [
        {
          "output_type": "execute_result",
          "data": {
            "text/plain": [
              "True"
            ]
          },
          "metadata": {},
          "execution_count": 5
        }
      ]
    },
    {
      "cell_type": "code",
      "source": [
        "spam = {'cat': 45}\n",
        "'cat' in spam.keys()"
      ],
      "metadata": {
        "colab": {
          "base_uri": "https://localhost:8080/"
        },
        "id": "ybtUtv_vkX0R",
        "outputId": "14c10c2f-13d3-42f1-fe3f-b2bb0b625b58"
      },
      "execution_count": null,
      "outputs": [
        {
          "output_type": "execute_result",
          "data": {
            "text/plain": [
              "True"
            ]
          },
          "metadata": {},
          "execution_count": 6
        }
      ]
    },
    {
      "cell_type": "markdown",
      "source": [
        "6. If a dictionary is stored in spam, what is the difference between the expressions &#39;cat&#39; in spam and\n",
        "&#39;cat&#39; in spam.values()?"
      ],
      "metadata": {
        "id": "KqzD-fz2kdoB"
      }
    },
    {
      "cell_type": "code",
      "source": [
        "# Then the statment 'cat' in spam looks for a ket in dictionay spam\n",
        "# and 'cat' in spam.values() will search for a value in spam dictionary irrecpective of the key its paired with\n",
        "# and both gives a boolean output if its True or False.\n",
        "spam = {'cat': 45}\n",
        "'cat' in spam"
      ],
      "metadata": {
        "colab": {
          "base_uri": "https://localhost:8080/"
        },
        "id": "lUxCZEBtkbHA",
        "outputId": "82613f6b-d1e6-4e32-e4c7-3e5ff7723f02"
      },
      "execution_count": null,
      "outputs": [
        {
          "output_type": "execute_result",
          "data": {
            "text/plain": [
              "True"
            ]
          },
          "metadata": {},
          "execution_count": 7
        }
      ]
    },
    {
      "cell_type": "code",
      "source": [
        "spam = {'cat': 45}\n",
        "'cat' in spam.values()"
      ],
      "metadata": {
        "colab": {
          "base_uri": "https://localhost:8080/"
        },
        "id": "oNs8eXzDk7e-",
        "outputId": "6aa7ee79-5893-4164-a013-7136ebc581b3"
      },
      "execution_count": null,
      "outputs": [
        {
          "output_type": "execute_result",
          "data": {
            "text/plain": [
              "False"
            ]
          },
          "metadata": {},
          "execution_count": 8
        }
      ]
    },
    {
      "cell_type": "markdown",
      "source": [
        "7. What is a shortcut for the following code?\n",
        "```\n",
        "if 'color' not in spam:\n",
        "spam['color'] = 'black'\n",
        "```\n",
        "\n"
      ],
      "metadata": {
        "id": "jiG7rTJ7k_SY"
      }
    },
    {
      "cell_type": "code",
      "source": [
        "\"\"\"\n",
        "In the above code\n",
        "the if statment will fist check whether the ket \"color\" is present in dictionary spam\n",
        "if the color is already presendt\n",
        ">>> then skip\n",
        "\n",
        "if not present\n",
        ">>> then it will run the next statment\n",
        "Which will create a key:value pair as \"color\":\"black\"\n",
        "\"\"\"\n",
        "# Example if the color i not present\n",
        "spam = {'cat': 45}\n",
        "if 'color' not in spam:\n",
        "  spam['color'] = 'black'\n",
        "spam\n",
        "\n",
        "# it created a new key:value pair"
      ],
      "metadata": {
        "colab": {
          "base_uri": "https://localhost:8080/"
        },
        "id": "e0o96KH5lFcB",
        "outputId": "f92c7567-bd67-4de8-8b69-34f3573969a3"
      },
      "execution_count": null,
      "outputs": [
        {
          "output_type": "execute_result",
          "data": {
            "text/plain": [
              "{'cat': 45, 'color': 'black'}"
            ]
          },
          "metadata": {},
          "execution_count": 10
        }
      ]
    },
    {
      "cell_type": "code",
      "source": [
        "# shortcut for this is\n",
        "\n",
        "spam = {'cat': 45}\n",
        "spam.setdefault('color','black')\n",
        "spam"
      ],
      "metadata": {
        "colab": {
          "base_uri": "https://localhost:8080/"
        },
        "id": "_J9B0e-HnDWD",
        "outputId": "18668b4d-a528-4f4f-904c-b33729ee8799"
      },
      "execution_count": null,
      "outputs": [
        {
          "output_type": "execute_result",
          "data": {
            "text/plain": [
              "{'cat': 45, 'color': 'black'}"
            ]
          },
          "metadata": {},
          "execution_count": 11
        }
      ]
    },
    {
      "cell_type": "markdown",
      "source": [
        "8. How do you &quot;pretty print&quot; dictionary values using which module and function?"
      ],
      "metadata": {
        "id": "8lgXGV2lnYA5"
      }
    },
    {
      "cell_type": "code",
      "source": [
        "# Module pretty print will print the dictionary in ordered way with each key:value in albpabatical order\n",
        "# Module for Preety print is pprint\n",
        "\n",
        "import pprint\n",
        "\n",
        "dict1 = {\"Name\": \"Kushagra\", \"Age\": 28, \"Gender\" : \"Male\"}\n",
        "pprint.pprint(dict1)"
      ],
      "metadata": {
        "colab": {
          "base_uri": "https://localhost:8080/"
        },
        "id": "5aaqNU7HnZox",
        "outputId": "335cad69-45ae-4a31-8559-7fae1047a072"
      },
      "execution_count": null,
      "outputs": [
        {
          "output_type": "stream",
          "name": "stdout",
          "text": [
            "{'Age': 28, 'Gender': 'Male', 'Name': 'Kushagra'}\n"
          ]
        }
      ]
    },
    {
      "cell_type": "code",
      "source": [
        "'-'.join('There can only one'.split())"
      ],
      "metadata": {
        "colab": {
          "base_uri": "https://localhost:8080/",
          "height": 35
        },
        "id": "F-AarOepCGCS",
        "outputId": "8d9ebf5c-667f-4edf-99e8-bcf8308cf09d"
      },
      "execution_count": null,
      "outputs": [
        {
          "output_type": "execute_result",
          "data": {
            "text/plain": [
              "'There-can-only-one'"
            ],
            "application/vnd.google.colaboratory.intrinsic+json": {
              "type": "string"
            }
          },
          "metadata": {},
          "execution_count": 28
        }
      ]
    },
    {
      "cell_type": "code",
      "source": [],
      "metadata": {
        "id": "riMna5vVCXgX"
      },
      "execution_count": null,
      "outputs": []
    }
  ]
}