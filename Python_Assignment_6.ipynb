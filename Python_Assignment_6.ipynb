{
  "nbformat": 4,
  "nbformat_minor": 0,
  "metadata": {
    "colab": {
      "provenance": []
    },
    "kernelspec": {
      "name": "python3",
      "display_name": "Python 3"
    },
    "language_info": {
      "name": "python"
    }
  },
  "cells": [
    {
      "cell_type": "markdown",
      "source": [
        "1. What are escape characters, and how do you use them?"
      ],
      "metadata": {
        "id": "Wo4CnyHgCzU_"
      }
    },
    {
      "cell_type": "code",
      "source": [
        "\"\"\"\n",
        "Escape characters are which will never get printed as part of the output.\n",
        "They are like illegal characters in Python.\n",
        "\n",
        "To use them we add backslash infront of them,\n",
        "that allows the python not to ignore them for the output\n",
        "\n",
        "Some of the escape caractor have different features\n",
        "Like\n",
        "\n",
        "\\n  ---  Next line\n",
        "\\r  ---  Carriage return\n",
        "\\t  ---  tabe space\n",
        "\\b  ---  backspace\n",
        "Etc\n",
        "\"\"\"\n",
        "# Example\n",
        "\n",
        "t = \"It\\'s my pen\"     # Here we are using \\' so that we can print \" ' \" in the output\n",
        "print(t)"
      ],
      "metadata": {
        "colab": {
          "base_uri": "https://localhost:8080/"
        },
        "id": "oZxVtdSkC2Qn",
        "outputId": "e495d336-ab6c-4a2e-ba3b-6eff3638385f"
      },
      "execution_count": null,
      "outputs": [
        {
          "output_type": "stream",
          "name": "stdout",
          "text": [
            "It's my pen\n"
          ]
        }
      ]
    },
    {
      "cell_type": "markdown",
      "source": [
        "2. What do the escape characters n and t stand for?"
      ],
      "metadata": {
        "id": "VjnRtWGAEgYv"
      }
    },
    {
      "cell_type": "code",
      "source": [
        "\"\"\"\n",
        "In the Excape Characters\n",
        "\n",
        "\\n  ---  Next line\n",
        "\\t  ---  tabe space\n",
        "\"\"\"\n",
        "# Example\n",
        "t1 = \"Hi everyone.\\nI hope you all are doing good\"\n",
        "print(t1)\n",
        "\n",
        "t2 = \"Mt age is:\\t45\"\n",
        "print(t2)"
      ],
      "metadata": {
        "colab": {
          "base_uri": "https://localhost:8080/"
        },
        "id": "pJ_23E7NEc2C",
        "outputId": "8438fea8-4922-4264-bf7a-9e2c00fc831f"
      },
      "execution_count": null,
      "outputs": [
        {
          "output_type": "stream",
          "name": "stdout",
          "text": [
            "Hi everyone.\n",
            "I hope you all are doing good\n",
            "Mt age is:\t45\n"
          ]
        }
      ]
    },
    {
      "cell_type": "markdown",
      "source": [
        "3. What is the way to include backslash characters in a string?"
      ],
      "metadata": {
        "id": "sG9UMh4SFzFI"
      }
    },
    {
      "cell_type": "code",
      "source": [
        "# We have print the backlash characters in a string using Raw string\n",
        "raw_s = r'Hi\\nHello'\n",
        "print(raw_s)"
      ],
      "metadata": {
        "colab": {
          "base_uri": "https://localhost:8080/"
        },
        "id": "eORhrkFXFs7q",
        "outputId": "6a268303-9b26-4f18-bd9f-4082e2bcc747"
      },
      "execution_count": null,
      "outputs": [
        {
          "output_type": "stream",
          "name": "stdout",
          "text": [
            "Hi\\nHello\n"
          ]
        }
      ]
    },
    {
      "cell_type": "code",
      "source": [
        "# Or we can print backslash like beow with \\\\\n",
        "\n",
        "my_string = 'C:\\\\path\\\\to\\\\file'\n",
        "print(my_string)"
      ],
      "metadata": {
        "colab": {
          "base_uri": "https://localhost:8080/"
        },
        "id": "z0mx2KCgHwmh",
        "outputId": "c6cf81dc-6175-4ae8-d953-82384f8a3357"
      },
      "execution_count": null,
      "outputs": [
        {
          "output_type": "stream",
          "name": "stdout",
          "text": [
            "C:\\path\\to\\file\n"
          ]
        }
      ]
    },
    {
      "cell_type": "markdown",
      "source": [
        "4. The string &quot;Howl&#39;s Moving Castle&quot; is a correct value. Why isn&#39;t the single quote character in the\n",
        "word Howl&#39;s not escaped a problem?"
      ],
      "metadata": {
        "id": "vJuxibEAIBLx"
      }
    },
    {
      "cell_type": "code",
      "source": [
        "\"\"\"\n",
        "Because a single quote is allowed inside a double quoted string\n",
        "and visa versa\n",
        "But we can't have double quotes inside of double quoted string\n",
        "or we can't have single quotes inside of single quoted string\n",
        "\"\"\"\n",
        "\n",
        "my_string = \"This is a string with single quote in it: '\"\n",
        "print(my_string)\n",
        "\n",
        "my_string1 = 'Thios is a string with double quote in it:\"'\n",
        "print(my_string1)"
      ],
      "metadata": {
        "colab": {
          "base_uri": "https://localhost:8080/"
        },
        "id": "Ff35aBUVH_ko",
        "outputId": "a94f471d-b073-4012-9318-9ed98148340c"
      },
      "execution_count": null,
      "outputs": [
        {
          "output_type": "stream",
          "name": "stdout",
          "text": [
            "This is a string with single quote in it: '\n",
            "Thios is a string with double quote in it:\"\n"
          ]
        }
      ]
    },
    {
      "cell_type": "markdown",
      "source": [
        "5. How do you write a string of newlines if you don&#39;t want to use the n character?"
      ],
      "metadata": {
        "id": "Qnla5cOkKnxZ"
      }
    },
    {
      "cell_type": "code",
      "source": [
        "newlines = chr(10) * 1  # Repeat the newline character three times\n",
        "my_string = \"This\" + newlines + \"is\" + newlines + \"a string\" + newlines + \"with\" + newlines + \"newlines\"\n",
        "print(my_string)\n"
      ],
      "metadata": {
        "colab": {
          "base_uri": "https://localhost:8080/"
        },
        "id": "r0VshBl4KBqo",
        "outputId": "25c10d10-c1a9-4c25-a91f-dc6074bf8f79"
      },
      "execution_count": null,
      "outputs": [
        {
          "output_type": "stream",
          "name": "stdout",
          "text": [
            "This\n",
            "is\n",
            "a string\n",
            "with\n",
            "newlines\n"
          ]
        }
      ]
    },
    {
      "cell_type": "markdown",
      "source": [
        "6. What are the values of the given expressions?\n",
        "```\n",
        "'Hello, world!'[1]\n",
        "'Hello, world!'[0:5]\n",
        "'Hello, world!'[:5]\n",
        "'Hello, world!'[3:]\n",
        "```\n",
        "\n"
      ],
      "metadata": {
        "id": "jX-_OHCKX4lW"
      }
    },
    {
      "cell_type": "code",
      "source": [
        "'Hello, world!'[1]  # Will print the char at 1 which is \"e\""
      ],
      "metadata": {
        "colab": {
          "base_uri": "https://localhost:8080/",
          "height": 35
        },
        "id": "3wo2lVaHLLhI",
        "outputId": "48bbb8f2-6fff-44bd-9c36-b736243c450d"
      },
      "execution_count": null,
      "outputs": [
        {
          "output_type": "execute_result",
          "data": {
            "text/plain": [
              "'e'"
            ],
            "application/vnd.google.colaboratory.intrinsic+json": {
              "type": "string"
            }
          },
          "metadata": {},
          "execution_count": 24
        }
      ]
    },
    {
      "cell_type": "code",
      "source": [
        "'Hello, world!'[0:5]  # Will print the char from 0 to 5 which is 'Hello'"
      ],
      "metadata": {
        "colab": {
          "base_uri": "https://localhost:8080/",
          "height": 35
        },
        "id": "qtnTEA4TYWp9",
        "outputId": "60d25ce7-2236-4ead-80f8-a9ba9f72b719"
      },
      "execution_count": null,
      "outputs": [
        {
          "output_type": "execute_result",
          "data": {
            "text/plain": [
              "'Hello'"
            ],
            "application/vnd.google.colaboratory.intrinsic+json": {
              "type": "string"
            }
          },
          "metadata": {},
          "execution_count": 25
        }
      ]
    },
    {
      "cell_type": "code",
      "source": [
        "'Hello, world!'[:5]  # Same as above, It taks 0 as default"
      ],
      "metadata": {
        "colab": {
          "base_uri": "https://localhost:8080/",
          "height": 35
        },
        "id": "cKG2y0kjYnaf",
        "outputId": "8119b7e7-2cfd-49b2-8e7b-e324e41fa755"
      },
      "execution_count": null,
      "outputs": [
        {
          "output_type": "execute_result",
          "data": {
            "text/plain": [
              "'Hello'"
            ],
            "application/vnd.google.colaboratory.intrinsic+json": {
              "type": "string"
            }
          },
          "metadata": {},
          "execution_count": 26
        }
      ]
    },
    {
      "cell_type": "code",
      "source": [
        "'Hello, world!'[3:]  # It will print everyting from position 3 till last which 'lo, world!'"
      ],
      "metadata": {
        "colab": {
          "base_uri": "https://localhost:8080/",
          "height": 35
        },
        "id": "2xp7oSrIY05v",
        "outputId": "d61203f3-9cae-408e-935f-7300d651ce70"
      },
      "execution_count": null,
      "outputs": [
        {
          "output_type": "execute_result",
          "data": {
            "text/plain": [
              "'lo, world!'"
            ],
            "application/vnd.google.colaboratory.intrinsic+json": {
              "type": "string"
            }
          },
          "metadata": {},
          "execution_count": 28
        }
      ]
    },
    {
      "cell_type": "markdown",
      "source": [
        "7. What are the values of the following expressions?\n",
        "\n",
        "```\n",
        "'Hello'.upper()\n",
        "'Hello'.upper().isupper()\n",
        "'Hello'.upper().lower()\n",
        "```\n",
        "\n"
      ],
      "metadata": {
        "id": "KnPQeThmZU3b"
      }
    },
    {
      "cell_type": "code",
      "source": [
        "'Hello'.upper()   # Will conert all the char to upper case"
      ],
      "metadata": {
        "colab": {
          "base_uri": "https://localhost:8080/",
          "height": 35
        },
        "id": "BofgxlsXZXOS",
        "outputId": "866eed68-40bb-4f91-e8c3-75e577b90397"
      },
      "execution_count": null,
      "outputs": [
        {
          "output_type": "execute_result",
          "data": {
            "text/plain": [
              "'HELLO'"
            ],
            "application/vnd.google.colaboratory.intrinsic+json": {
              "type": "string"
            }
          },
          "metadata": {},
          "execution_count": 29
        }
      ]
    },
    {
      "cell_type": "code",
      "source": [
        "'Hello'.upper().isupper()   # Will check if the char are in upper case and output will be Boolean"
      ],
      "metadata": {
        "colab": {
          "base_uri": "https://localhost:8080/"
        },
        "id": "iVZ7NCHHaGsS",
        "outputId": "c227151a-944a-4d1f-a382-d743f3ae81ec"
      },
      "execution_count": null,
      "outputs": [
        {
          "output_type": "execute_result",
          "data": {
            "text/plain": [
              "True"
            ]
          },
          "metadata": {},
          "execution_count": 30
        }
      ]
    },
    {
      "cell_type": "code",
      "source": [
        "'Hello'.upper().lower()   # Will conver the chars to upper case and then again turn them back to lower case"
      ],
      "metadata": {
        "colab": {
          "base_uri": "https://localhost:8080/",
          "height": 35
        },
        "id": "SEWto8Jtb5pY",
        "outputId": "15d4ad20-786d-4422-ba69-921d7a3c7ee6"
      },
      "execution_count": null,
      "outputs": [
        {
          "output_type": "execute_result",
          "data": {
            "text/plain": [
              "'hello'"
            ],
            "application/vnd.google.colaboratory.intrinsic+json": {
              "type": "string"
            }
          },
          "metadata": {},
          "execution_count": 31
        }
      ]
    },
    {
      "cell_type": "markdown",
      "source": [
        "8. What are the values of the following expressions?\n",
        "\n",
        "```\n",
        "'Remember, remember, the fifth of July.'.split()\n",
        "'-'.join('There can only one.'.split())\n",
        "```\n",
        "\n"
      ],
      "metadata": {
        "id": "bB7qYiqycRjy"
      }
    },
    {
      "cell_type": "code",
      "source": [
        "'Remember, remember, the fifth of July.'.split()    # .split() will split all the char from \" \" (space) and save it in a list"
      ],
      "metadata": {
        "colab": {
          "base_uri": "https://localhost:8080/"
        },
        "id": "H7DAFr-ecN14",
        "outputId": "b58c7963-ce21-4a10-e893-c900a2034486"
      },
      "execution_count": null,
      "outputs": [
        {
          "output_type": "execute_result",
          "data": {
            "text/plain": [
              "['Remember,', 'remember,', 'the', 'fifth', 'of', 'July.']"
            ]
          },
          "metadata": {},
          "execution_count": 32
        }
      ]
    },
    {
      "cell_type": "code",
      "source": [
        "'-'.join('There can only one.'.split())    # .split() will split lie above and .join() will incert \"-\" insted of \" \" (space)"
      ],
      "metadata": {
        "colab": {
          "base_uri": "https://localhost:8080/",
          "height": 35
        },
        "id": "5GiG1tX4doh_",
        "outputId": "ce6ef7df-c779-4689-fc66-135020d3b0f1"
      },
      "execution_count": null,
      "outputs": [
        {
          "output_type": "execute_result",
          "data": {
            "text/plain": [
              "'There-can-only-one.'"
            ],
            "application/vnd.google.colaboratory.intrinsic+json": {
              "type": "string"
            }
          },
          "metadata": {},
          "execution_count": 33
        }
      ]
    },
    {
      "cell_type": "markdown",
      "source": [
        "9. What are the methods for right-justifying, left-justifying, and centering a string?"
      ],
      "metadata": {
        "id": "KF_LvOYDemAY"
      }
    },
    {
      "cell_type": "code",
      "source": [],
      "metadata": {
        "id": "wfOXfgdkeg03"
      },
      "execution_count": null,
      "outputs": []
    },
    {
      "cell_type": "markdown",
      "source": [
        "10. What is the best way to remove whitespace characters from the start or end?"
      ],
      "metadata": {
        "id": "WJApkUo2enTX"
      }
    },
    {
      "cell_type": "code",
      "source": [],
      "metadata": {
        "id": "BeU6hZ-gepPH"
      },
      "execution_count": null,
      "outputs": []
    }
  ]
}