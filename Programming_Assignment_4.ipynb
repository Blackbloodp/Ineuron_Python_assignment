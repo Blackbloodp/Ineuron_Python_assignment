{
 "cells": [
  {
   "cell_type": "markdown",
   "id": "17dc9b66",
   "metadata": {},
   "source": [
    "1. Write a Python Program to Find the Factorial of a Number?"
   ]
  },
  {
   "cell_type": "code",
   "execution_count": 3,
   "id": "fdec46df",
   "metadata": {},
   "outputs": [
    {
     "name": "stdout",
     "output_type": "stream",
     "text": [
      "Enter the number = 5\n",
      "120\n"
     ]
    }
   ],
   "source": [
    "x = int(input(\"Enter the number = \"))\n",
    "a = 1\n",
    "for i in range(1,x+1):\n",
    "    a = i * a\n",
    "    \n",
    "print(a)"
   ]
  },
  {
   "cell_type": "markdown",
   "id": "3f5b3355",
   "metadata": {},
   "source": [
    "2. Write a Python Program to Display the multiplication Table?"
   ]
  },
  {
   "cell_type": "code",
   "execution_count": 4,
   "id": "3a22523d",
   "metadata": {},
   "outputs": [
    {
     "name": "stdout",
     "output_type": "stream",
     "text": [
      "Write the table of = 11\n",
      "11 x 1 = 11\n",
      "11 x 2 = 22\n",
      "11 x 3 = 33\n",
      "11 x 4 = 44\n",
      "11 x 5 = 55\n",
      "11 x 6 = 66\n",
      "11 x 7 = 77\n",
      "11 x 8 = 88\n",
      "11 x 9 = 99\n",
      "11 x 10 = 110\n"
     ]
    }
   ],
   "source": [
    "y = int(input(\"Write the table of = \"))\n",
    "\n",
    "for i in range(1,11):    # 11 because the table will be form 1 to 10\n",
    "    print(y ,\"x\", i, \"=\", y*i)"
   ]
  },
  {
   "cell_type": "markdown",
   "id": "52576a42",
   "metadata": {},
   "source": [
    "3. Write a Python Program to Print the Fibonacci sequence?"
   ]
  },
  {
   "cell_type": "code",
   "execution_count": 10,
   "id": "47098c00",
   "metadata": {},
   "outputs": [
    {
     "name": "stdout",
     "output_type": "stream",
     "text": [
      "Write the Fibonacci sequence till terms = 11\n",
      "[0, 1, 1, 2, 3, 5, 8, 13, 21, 34, 55]\n"
     ]
    }
   ],
   "source": [
    "z = int(input(\"Write the Fibonacci sequence till terms = \"))\n",
    "b = 0\n",
    "c = 1\n",
    "d = 0\n",
    "e = 0\n",
    "l = [b, c]\n",
    "for i in range(0,z-2):\n",
    "    e = e + i\n",
    "    if i < z:\n",
    "        d = b + c\n",
    "        l.append(d)\n",
    "        b, c, d = c, d, 0\n",
    "print(l)\n"
   ]
  },
  {
   "cell_type": "markdown",
   "id": "9c98a7b0",
   "metadata": {},
   "source": [
    "4. Write a Python Program to Check Armstrong Number?"
   ]
  },
  {
   "cell_type": "code",
   "execution_count": 25,
   "id": "bd9040a3",
   "metadata": {},
   "outputs": [
    {
     "name": "stdout",
     "output_type": "stream",
     "text": [
      "Enter the number = 406\n",
      "The number you have entered is not an Armstrong number\n"
     ]
    }
   ],
   "source": [
    "num = int(input(\"Enter the number = \"))\n",
    "a1 = 0\n",
    "if num > 0:\n",
    "    n = str(num)\n",
    "    for i in range(len(n)):\n",
    "        a1 = int(n[i])**(len(n)) + a1\n",
    "    if a1 == num:\n",
    "        print(\"The number you have entered is an Armstrong number\")\n",
    "    else:\n",
    "        print(\"The number you have entered is not an Armstrong number\")\n"
   ]
  },
  {
   "cell_type": "markdown",
   "id": "4a7988d5",
   "metadata": {},
   "source": [
    "6. Write a Python Program to Find the Sum of Natural Numbers?"
   ]
  },
  {
   "cell_type": "code",
   "execution_count": 28,
   "id": "a13134df",
   "metadata": {},
   "outputs": [
    {
     "name": "stdout",
     "output_type": "stream",
     "text": [
      "Enter any natural number = 100000\n",
      "The sum of all the natural number till  100000 is 5000050000\n"
     ]
    }
   ],
   "source": [
    "# One way of writing the code without the formula\n",
    "\n",
    "range_1 = int(input(\"Enter any natural number = \"))\n",
    "if range_1 > 0:\n",
    "    a = 0\n",
    "    for i in range(0,range_1 + 1):\n",
    "        a = a + i\n",
    "    print(\"The sum of all the natural number till \",range_1, \"is\", a)\n",
    "else:\n",
    "    print(\"The numebr you have entered is not a natural number. Please enter a natural number\")"
   ]
  },
  {
   "cell_type": "code",
   "execution_count": 32,
   "id": "7b78737b",
   "metadata": {},
   "outputs": [
    {
     "name": "stdout",
     "output_type": "stream",
     "text": [
      "Enter any natural number = 100000\n",
      "The sum of all the natural number till  100000 is 5000050000.0\n"
     ]
    }
   ],
   "source": [
    "# Another way with the formula\n",
    "\n",
    "range_1 = int(input(\"Enter any natural number = \"))\n",
    "if range_1 > 0:\n",
    "    S = (range_1*(range_1 + 1))/2\n",
    "    print(\"The sum of all the natural number till \",range_1, \"is\", S)\n",
    "else:\n",
    "    print(\"The numebr you have entered is not a natural number. Please enter a natural number\")"
   ]
  },
  {
   "cell_type": "code",
   "execution_count": null,
   "id": "205b7076",
   "metadata": {},
   "outputs": [],
   "source": []
  }
 ],
 "metadata": {
  "kernelspec": {
   "display_name": "Python 3 (ipykernel)",
   "language": "python",
   "name": "python3"
  },
  "language_info": {
   "codemirror_mode": {
    "name": "ipython",
    "version": 3
   },
   "file_extension": ".py",
   "mimetype": "text/x-python",
   "name": "python",
   "nbconvert_exporter": "python",
   "pygments_lexer": "ipython3",
   "version": "3.9.13"
  }
 },
 "nbformat": 4,
 "nbformat_minor": 5
}
