{
 "cells": [
  {
   "cell_type": "markdown",
   "id": "5bcaaab5",
   "metadata": {},
   "source": [
    "1. In the below elements which of them are values or an expression? eg:- values can be\n",
    "integer or string and expressions will be mathematical operators.\n",
    "*\n",
    "&#39;hello&#39;\n",
    "-87.8\n",
    "-\n",
    "/\n",
    "+\n",
    "6\n"
   ]
  },
  {
   "cell_type": "code",
   "execution_count": 2,
   "id": "a4a55fa2",
   "metadata": {},
   "outputs": [
    {
     "data": {
      "text/plain": [
       "\"Answer\\n\\nValues are:- -87.8, 6, 'hello'\\nExpressions are:- *, -, +, /\\n\""
      ]
     },
     "execution_count": 2,
     "metadata": {},
     "output_type": "execute_result"
    }
   ],
   "source": [
    "\"\"\"Answer\n",
    "\n",
    "Values are:- -87.8, 6, 'hello'\n",
    "Expressions are:- *, -, +, /\n",
    "\"\"\""
   ]
  },
  {
   "cell_type": "markdown",
   "id": "ce4c5f27",
   "metadata": {},
   "source": [
    "2. What is the difference between string and variable?"
   ]
  },
  {
   "cell_type": "code",
   "execution_count": 3,
   "id": "2db1a37c",
   "metadata": {},
   "outputs": [
    {
     "data": {
      "text/plain": [
       "'\\nString is a typr of data that we can store in variable. Strings are usually writen under \"\" or \\'\\'\\nExample for Strings: \"kush\", \\'dfjkjds6\\', \\'1244cnrfj\\', etc\\nIt can contail any type of data in it\\n\\nVariable is a place where you can store information. Information liek strings, intergers, list, set, etc are stored in variable\\n\\nExample:- \\na = 54 (here a is the variable and 54 is the information stored in it)\\n'"
      ]
     },
     "execution_count": 3,
     "metadata": {},
     "output_type": "execute_result"
    }
   ],
   "source": [
    "\"\"\"\n",
    "String is a typr of data that we can store in variable. Strings are usually writen under \"\" or ''\n",
    "Example for Strings: \"kush\", 'dfjkjds6', '1244cnrfj', etc\n",
    "It can contail any type of data in it\n",
    "\n",
    "Variable is a place where you can store information. Information liek strings, intergers, list, set, etc are stored in variable\n",
    "\n",
    "Example:- \n",
    "a = 54 (here a is the variable and 54 is the information stored in it)\n",
    "\"\"\""
   ]
  },
  {
   "cell_type": "markdown",
   "id": "912b6abe",
   "metadata": {},
   "source": [
    "3. Describe three different data types."
   ]
  },
  {
   "cell_type": "code",
   "execution_count": 4,
   "id": "3d6746b3",
   "metadata": {},
   "outputs": [
    {
     "data": {
      "text/plain": [
       "'\\n1st:- Neumeric: stors all neumerical data like int, flot, complex \\nExample: a = 24, b = 45.02, c = 4+2j\\n\\n2nd:- \\'str\\' represents strings. \\nExample: a = \"kush\" It is always kep inside of \"\" or \\'\\'\\n\\n3rd:- Sequence: stors a set of data in it like tuple, list\\nExample: a = [1,3,5,\"drfdf\"], a = (2.4.\"lkjfgkj\", 5+1j)\\n'"
      ]
     },
     "execution_count": 4,
     "metadata": {},
     "output_type": "execute_result"
    }
   ],
   "source": [
    "\"\"\"\n",
    "1st:- Neumeric: stors all neumerical data like int, flot, complex \n",
    "Example: a = 24, b = 45.02, c = 4+2j\n",
    "\n",
    "2nd:- 'str' represents strings. \n",
    "Example: a = \"kush\" It is always kep inside of \"\" or ''\n",
    "\n",
    "3rd:- Sequence: stors a set of data in it like tuple, list\n",
    "Example: a = [1,3,5,\"drfdf\"], a = (2.4.\"lkjfgkj\", 5+1j)\n",
    "\"\"\""
   ]
  },
  {
   "cell_type": "markdown",
   "id": "47a3adda",
   "metadata": {},
   "source": [
    "4. What is an expression made up of? What do all expressions do?"
   ]
  },
  {
   "cell_type": "code",
   "execution_count": 5,
   "id": "081656bf",
   "metadata": {},
   "outputs": [
    {
     "data": {
      "text/plain": [
       "'\\nExpressions are made up of values and mathematical operators, \\nand they are used to solve a methamatical operation in Python\\n\\nExample;\\na = 5+6\\n'"
      ]
     },
     "execution_count": 5,
     "metadata": {},
     "output_type": "execute_result"
    }
   ],
   "source": [
    "\"\"\"\n",
    "Expressions are made up of values and mathematical operators, \n",
    "and they are used to solve a methamatical operation in Python\n",
    "\n",
    "Example;\n",
    "a = 5+6\n",
    "\"\"\""
   ]
  },
  {
   "cell_type": "markdown",
   "id": "a84d0f0c",
   "metadata": {},
   "source": [
    "5. This assignment statements, like spam = 10. What is the difference between an\n",
    "expression and a statement?"
   ]
  },
  {
   "cell_type": "code",
   "execution_count": 6,
   "id": "16c59e5c",
   "metadata": {},
   "outputs": [
    {
     "data": {
      "text/plain": [
       "'\\nStatment is delecrtion of some value, no interpretation required. Its standalone\\nExpresion always produces some valu after interpretation to create a new value\\n'"
      ]
     },
     "execution_count": 6,
     "metadata": {},
     "output_type": "execute_result"
    }
   ],
   "source": [
    "\"\"\"\n",
    "Statment is delecrtion of some value, no interpretation required. Its standalone\n",
    "Expresion always produces some valu after interpretation to create a new value\n",
    "\"\"\""
   ]
  },
  {
   "cell_type": "markdown",
   "id": "a5fab6ed",
   "metadata": {},
   "source": [
    "6. After running the following code, what does the variable bacon contain?\n",
    "bacon = 22\n",
    "bacon + 1"
   ]
  },
  {
   "cell_type": "code",
   "execution_count": 8,
   "id": "5187a667",
   "metadata": {},
   "outputs": [
    {
     "data": {
      "text/plain": [
       "22"
      ]
     },
     "execution_count": 8,
     "metadata": {},
     "output_type": "execute_result"
    }
   ],
   "source": [
    "bacon = 22\n",
    "bacon + 1\n",
    "bacon\n",
    "\n",
    "## we have not assigned bacan +1 back to bacon \n",
    "# so no change in the initial assigned value of bacon"
   ]
  },
  {
   "cell_type": "markdown",
   "id": "4fdec563",
   "metadata": {},
   "source": [
    "7. What should the values of the following two terms be?\n",
    "&#39;spam&#39; + &#39;spamspam&#39;\n",
    "&#39;spam&#39; * 3"
   ]
  },
  {
   "cell_type": "code",
   "execution_count": 9,
   "id": "9dcf97d2",
   "metadata": {},
   "outputs": [
    {
     "data": {
      "text/plain": [
       "'spamspamspam'"
      ]
     },
     "execution_count": 9,
     "metadata": {},
     "output_type": "execute_result"
    }
   ],
   "source": [
    "'spam' + 'spamspam'\n",
    "# will result in 'spamspamspam'"
   ]
  },
  {
   "cell_type": "code",
   "execution_count": 10,
   "id": "c3bd9fc3",
   "metadata": {},
   "outputs": [
    {
     "data": {
      "text/plain": [
       "'spamspamspam'"
      ]
     },
     "execution_count": 10,
     "metadata": {},
     "output_type": "execute_result"
    }
   ],
   "source": [
    "'spam'*3\n",
    "# Will also reslut in 'spamspamspam'"
   ]
  },
  {
   "cell_type": "markdown",
   "id": "5987259f",
   "metadata": {},
   "source": [
    "8. Why is eggs a valid variable name while 100 is invalid?"
   ]
  },
  {
   "cell_type": "code",
   "execution_count": 12,
   "id": "21e352d4",
   "metadata": {},
   "outputs": [
    {
     "ename": "SyntaxError",
     "evalue": "invalid syntax (3882142277.py, line 7)",
     "output_type": "error",
     "traceback": [
      "\u001b[1;36m  File \u001b[1;32m\"C:\\Users\\win\\AppData\\Local\\Temp\\ipykernel_4080\\3882142277.py\"\u001b[1;36m, line \u001b[1;32m7\u001b[0m\n\u001b[1;33m    1g = 2\u001b[0m\n\u001b[1;37m     ^\u001b[0m\n\u001b[1;31mSyntaxError\u001b[0m\u001b[1;31m:\u001b[0m invalid syntax\n"
     ]
    }
   ],
   "source": [
    "\"\"\"\n",
    "Because strings or combination of strings and integers can be used in variable names\n",
    "but only integers cannot be used as a variable name\n",
    "Becasue variable name cannot begin with a number\n",
    "\"\"\"\n",
    "Example\n",
    "1g = 2"
   ]
  },
  {
   "cell_type": "markdown",
   "id": "3d626b5e",
   "metadata": {},
   "source": [
    "9. What three functions can be used to get the integer, floating-point number, or string\n",
    "version of a value?"
   ]
  },
  {
   "cell_type": "code",
   "execution_count": 13,
   "id": "549673f9",
   "metadata": {},
   "outputs": [
    {
     "data": {
      "text/plain": [
       "'\\nFor integers we can use int() function\\n\\nFor floting-point we can use flot() function\\n\\nFor srting we can use str() function\\n'"
      ]
     },
     "execution_count": 13,
     "metadata": {},
     "output_type": "execute_result"
    }
   ],
   "source": [
    "\"\"\"\n",
    "For integers we can use int() function\n",
    "\n",
    "For floating-point we can use float() function\n",
    "\n",
    "For srting we can use str() function\n",
    "\"\"\""
   ]
  },
  {
   "cell_type": "code",
   "execution_count": 14,
   "id": "fd58b6db",
   "metadata": {},
   "outputs": [
    {
     "data": {
      "text/plain": [
       "(123, 12.45, '123')"
      ]
     },
     "execution_count": 14,
     "metadata": {},
     "output_type": "execute_result"
    }
   ],
   "source": [
    "a = int(\"123\")\n",
    "b = float(\"12.45\")\n",
    "c = str(123)\n",
    "a, b, c"
   ]
  },
  {
   "cell_type": "markdown",
   "id": "762d7c8d",
   "metadata": {},
   "source": [
    "10. Why does this expression cause an error? How can you fix it?\n",
    "&#39;I have eaten &#39; + 99 + &#39; burritos.&#39;"
   ]
  },
  {
   "cell_type": "code",
   "execution_count": 15,
   "id": "ee568181",
   "metadata": {},
   "outputs": [
    {
     "ename": "TypeError",
     "evalue": "can only concatenate str (not \"int\") to str",
     "output_type": "error",
     "traceback": [
      "\u001b[1;31m---------------------------------------------------------------------------\u001b[0m",
      "\u001b[1;31mTypeError\u001b[0m                                 Traceback (most recent call last)",
      "\u001b[1;32m~\\AppData\\Local\\Temp\\ipykernel_4080\\1092153352.py\u001b[0m in \u001b[0;36m<module>\u001b[1;34m\u001b[0m\n\u001b[1;32m----> 1\u001b[1;33m \u001b[1;34m'I have eaten '\u001b[0m \u001b[1;33m+\u001b[0m \u001b[1;36m99\u001b[0m \u001b[1;33m+\u001b[0m \u001b[1;34m' burritos.'\u001b[0m\u001b[1;33m\u001b[0m\u001b[1;33m\u001b[0m\u001b[0m\n\u001b[0m\u001b[0;32m      2\u001b[0m \u001b[1;33m\u001b[0m\u001b[0m\n\u001b[0;32m      3\u001b[0m \u001b[1;31m# Will cause an error because int (which is 99) cannot be added or operated with Str values\u001b[0m\u001b[1;33m\u001b[0m\u001b[1;33m\u001b[0m\u001b[0m\n\u001b[0;32m      4\u001b[0m \u001b[1;31m# To fix it we have to convert int to str as shown below\u001b[0m\u001b[1;33m\u001b[0m\u001b[1;33m\u001b[0m\u001b[0m\n",
      "\u001b[1;31mTypeError\u001b[0m: can only concatenate str (not \"int\") to str"
     ]
    }
   ],
   "source": [
    "'I have eaten ' + 99 + ' burritos.'\n",
    "\n",
    "# Will cause an error because int (which is 99) cannot be added or operated with Str values\n",
    "# To fix it we have to convert int to str as shown below"
   ]
  },
  {
   "cell_type": "code",
   "execution_count": 16,
   "id": "5df46db1",
   "metadata": {},
   "outputs": [
    {
     "data": {
      "text/plain": [
       "'I have eaten 99 burritos.'"
      ]
     },
     "execution_count": 16,
     "metadata": {},
     "output_type": "execute_result"
    }
   ],
   "source": [
    "'I have eaten ' + \"99\" + ' burritos.'"
   ]
  }
 ],
 "metadata": {
  "kernelspec": {
   "display_name": "Python 3 (ipykernel)",
   "language": "python",
   "name": "python3"
  },
  "language_info": {
   "codemirror_mode": {
    "name": "ipython",
    "version": 3
   },
   "file_extension": ".py",
   "mimetype": "text/x-python",
   "name": "python",
   "nbconvert_exporter": "python",
   "pygments_lexer": "ipython3",
   "version": "3.9.13"
  }
 },
 "nbformat": 4,
 "nbformat_minor": 5
}
