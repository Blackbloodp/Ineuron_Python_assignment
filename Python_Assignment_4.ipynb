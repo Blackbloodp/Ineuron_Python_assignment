{
 "cells": [
  {
   "cell_type": "markdown",
   "id": "35b96fd0",
   "metadata": {},
   "source": [
    "1. What exactly is []?"
   ]
  },
  {
   "cell_type": "code",
   "execution_count": 1,
   "id": "cf5965f2",
   "metadata": {},
   "outputs": [
    {
     "data": {
      "text/plain": [
       "'\\n[] represents a empty list\\nLists are data structures that can hold multiple elements of various types\\n'"
      ]
     },
     "execution_count": 1,
     "metadata": {},
     "output_type": "execute_result"
    }
   ],
   "source": [
    "\"\"\"\n",
    "[] represents a empty list\n",
    "Lists are data structures that can hold multiple elements of various types\n",
    "\"\"\""
   ]
  },
  {
   "cell_type": "markdown",
   "id": "d78ddf08",
   "metadata": {},
   "source": [
    "2. In a list of values stored in a variable called spam, how would you assign the value &#39;hello&#39; as the\n",
    "third value? (Assume [2, 4, 6, 8, 10] are in spam)."
   ]
  },
  {
   "cell_type": "code",
   "execution_count": 5,
   "id": "cc3a6dd8",
   "metadata": {},
   "outputs": [
    {
     "data": {
      "text/plain": [
       "[2, 4, 'hellow', 8, 10]"
      ]
     },
     "execution_count": 5,
     "metadata": {},
     "output_type": "execute_result"
    }
   ],
   "source": [
    "# Here the 3rd value has the index 3-1 = 2\n",
    "spam = [2,4,6,8,10]\n",
    "spam[2] = \"hellow\"\n",
    "spam"
   ]
  },
  {
   "cell_type": "markdown",
   "id": "a61c9003",
   "metadata": {},
   "source": [
    "Let&#39;s pretend the spam includes the list [&#39;a&#39;, &#39;b&#39;, &#39;c&#39;, &#39;d&#39;] for the next three queries.\n",
    "\n",
    "3. What is the value of spam[int(int(&#39;3&#39; * 2) / 11)]?"
   ]
  },
  {
   "cell_type": "code",
   "execution_count": 6,
   "id": "2996e0fc",
   "metadata": {},
   "outputs": [
    {
     "data": {
      "text/plain": [
       "'d'"
      ]
     },
     "execution_count": 6,
     "metadata": {},
     "output_type": "execute_result"
    }
   ],
   "source": [
    "spam = ['a','b','c','d']\n",
    "# int('3'*2)/11 = 33/11 = 3\n",
    "a = int('3'*2)\n",
    "b = a/11\n",
    "# So spam[int(3)] willbe the value at the index value of 3+1= 4th value in the list\n",
    "# which is 'd'\n",
    "spam[int(int(b))]"
   ]
  },
  {
   "cell_type": "markdown",
   "id": "8b775f2d",
   "metadata": {},
   "source": [
    "4. What is the value of spam[-1]?"
   ]
  },
  {
   "cell_type": "code",
   "execution_count": 7,
   "id": "a132f52e",
   "metadata": {},
   "outputs": [
    {
     "data": {
      "text/plain": [
       "'d'"
      ]
     },
     "execution_count": 7,
     "metadata": {},
     "output_type": "execute_result"
    }
   ],
   "source": [
    "# Here -1 will represent the last index of the list, \n",
    "# So the answer will be 'd'\n",
    "spam[-1]"
   ]
  },
  {
   "cell_type": "markdown",
   "id": "5fbca993",
   "metadata": {},
   "source": [
    "5. What is the value of spam[:2]?"
   ]
  },
  {
   "cell_type": "code",
   "execution_count": 13,
   "id": "c0ce870a",
   "metadata": {},
   "outputs": [
    {
     "data": {
      "text/plain": [
       "['a', 'b']"
      ]
     },
     "execution_count": 13,
     "metadata": {},
     "output_type": "execute_result"
    }
   ],
   "source": [
    "# here inthis way of calling list values. \n",
    "# We have 2 options $:$:$\n",
    "\n",
    "\"\"\" \n",
    "1st $ is for the index value\n",
    "by default its 0 so it will call the 1st element of the list\n",
    "\n",
    "2nd $ is for the end of the index \n",
    "By default its same as the previous index mentioned.\n",
    "example: if we run spam[1:3] the result will be the element from the 1st index to the elements to the 3-1 index\n",
    "\n",
    "3rd $ is for the step by which we will be jumping and taking the value. \n",
    "By default its 0 so we don't get more then 1 value if we call the function just like that\n",
    "if we mention 1 it will call all the values after the index specified.\n",
    "\"\"\"\n",
    "spam[:2]"
   ]
  },
  {
   "cell_type": "markdown",
   "id": "7264f17c",
   "metadata": {},
   "source": [
    "Let&#39;s pretend bacon has the list [3.14, &#39;cat,&#39; 11, &#39;cat,&#39; True] for the next three questions.\n",
    "\n",
    "6. What is the value of bacon.index(&#39;cat&#39;)?"
   ]
  },
  {
   "cell_type": "code",
   "execution_count": 1,
   "id": "eb9e4f20",
   "metadata": {},
   "outputs": [
    {
     "data": {
      "text/plain": [
       "1"
      ]
     },
     "execution_count": 1,
     "metadata": {},
     "output_type": "execute_result"
    }
   ],
   "source": [
    "bacon = [3.14, 'cat',11,'cat',True]\n",
    "bacon.index('cat')\n",
    "# Output: 1 \n",
    "# It will only take the 1st instance of the element. "
   ]
  },
  {
   "cell_type": "markdown",
   "id": "85ab07d7",
   "metadata": {},
   "source": [
    "7. How does bacon.append(99) change the look of the list value in bacon?"
   ]
  },
  {
   "cell_type": "code",
   "execution_count": 5,
   "id": "a6db17e7",
   "metadata": {},
   "outputs": [],
   "source": [
    "# Append fucntion will add that element next to the last element\n",
    "bacon.append(99)"
   ]
  },
  {
   "cell_type": "code",
   "execution_count": 6,
   "id": "d2f58153",
   "metadata": {},
   "outputs": [
    {
     "data": {
      "text/plain": [
       "[3.14, 'cat', 11, 'cat', True, 99]"
      ]
     },
     "execution_count": 6,
     "metadata": {},
     "output_type": "execute_result"
    }
   ],
   "source": [
    "bacon"
   ]
  },
  {
   "cell_type": "markdown",
   "id": "6fd055a2",
   "metadata": {},
   "source": [
    "8. How does bacon.remove(&#39;cat&#39;) change the look of the list in bacon?"
   ]
  },
  {
   "cell_type": "code",
   "execution_count": 8,
   "id": "a4b5cf5c",
   "metadata": {},
   "outputs": [
    {
     "data": {
      "text/plain": [
       "[3.14, 11, True, 99]"
      ]
     },
     "execution_count": 8,
     "metadata": {},
     "output_type": "execute_result"
    }
   ],
   "source": [
    "# .remove function will remove the all instance of the element mentioned.\n",
    "# So the element in the index 1 and 3 will be removed\n",
    "bacon.remove('cat')\n",
    "bacon"
   ]
  },
  {
   "cell_type": "markdown",
   "id": "5410f993",
   "metadata": {},
   "source": [
    "9. What are the list concatenation and list replication operators?"
   ]
  },
  {
   "cell_type": "code",
   "execution_count": null,
   "id": "ce2e1456",
   "metadata": {},
   "outputs": [],
   "source": [
    "\"\"\"\n",
    "List Concatenation (+):\n",
    "The \"+\" operator is used to combine two or more lists into a single list. \n",
    "It creates a new list containing all the elements from the original lists\n",
    "in the order they were specified.\n",
    "\n",
    "List Replication (*):\n",
    "The \"*\" operator is used to replicate a list by a specified number of times. \n",
    "It creates a new list that contains multiple copies of the original list elements.\n",
    "\"\"\""
   ]
  },
  {
   "cell_type": "code",
   "execution_count": 12,
   "id": "99273e92",
   "metadata": {},
   "outputs": [
    {
     "name": "stdout",
     "output_type": "stream",
     "text": [
      "[1, 2, 3, 4, 5, 6, 7, 8]\n"
     ]
    }
   ],
   "source": [
    "# Example of Concatenation\n",
    "a = [1,2,3,4]\n",
    "b = [5,6,7,8]\n",
    "c = a+b\n",
    "print(c)"
   ]
  },
  {
   "cell_type": "code",
   "execution_count": 10,
   "id": "2e6ea42c",
   "metadata": {},
   "outputs": [
    {
     "name": "stdout",
     "output_type": "stream",
     "text": [
      "[1, 0, 1, 0, 1, 0]\n"
     ]
    }
   ],
   "source": [
    "d = [1,0]\n",
    "e = d*3\n",
    "print(e)"
   ]
  },
  {
   "cell_type": "markdown",
   "id": "613188c6",
   "metadata": {},
   "source": [
    "10. What is difference between the list methods append() and insert()?"
   ]
  },
  {
   "cell_type": "code",
   "execution_count": null,
   "id": "f16f5a63",
   "metadata": {},
   "outputs": [],
   "source": [
    "\"\"\"\n",
    "1. Append():\n",
    "The append() method is used to add a single element to the end of a list. \n",
    "It modifies the list by adding the new element as the last item.\n",
    "\n",
    "2. Insert():\n",
    "The insert() method is used to add a single element at a specific position in the list. \n",
    "It takes two arguments: the index at which you want to insert the element, and the element itself. \n",
    "The existing elements after the specified index are shifted to accommodate the new element.\n",
    "\"\"\""
   ]
  },
  {
   "cell_type": "code",
   "execution_count": 15,
   "id": "52dc92a5",
   "metadata": {},
   "outputs": [
    {
     "name": "stdout",
     "output_type": "stream",
     "text": [
      "[1, 2, 3, 4, 'five']\n",
      "[1, 2, 3, 'four', 4, 'five']\n"
     ]
    }
   ],
   "source": [
    "# Eg of Append()\n",
    "a = [1,2,3,4]\n",
    "a.append('five')\n",
    "print(a)\n",
    "\n",
    "# Eg of insert()\n",
    "a.insert(3,'four')\n",
    "print(a)"
   ]
  },
  {
   "cell_type": "markdown",
   "id": "6d56c37b",
   "metadata": {},
   "source": [
    "11. What are the two methods for removing items from a list?"
   ]
  },
  {
   "cell_type": "code",
   "execution_count": null,
   "id": "171be2f5",
   "metadata": {},
   "outputs": [],
   "source": [
    "\"\"\"\n",
    "1. pop():\n",
    "The pop() method is used to remove an element from a specific index in the list.\n",
    "It takes an optional index argument, and if no index is provided,\n",
    "it removes and returns the last element from the list.\n",
    "If you don't provide an index to the pop() method, it will remove the last element:\n",
    "\n",
    "\n",
    "2. remove():\n",
    "The remove() method is used to remove the first occurrence of a specified value from the list.\n",
    "It searches for the value in the list and removes it if found.\n",
    "If the value appears multiple times in the list, only the first occurrence is removed.\n",
    "\n",
    "\"\"\""
   ]
  },
  {
   "cell_type": "code",
   "execution_count": 13,
   "id": "539019d7",
   "metadata": {},
   "outputs": [
    {
     "name": "stdout",
     "output_type": "stream",
     "text": [
      "[1, 2, 3, 4, 6, 7, 8]\n",
      "[1, 2, 3, 5]\n"
     ]
    }
   ],
   "source": [
    "# 1st use pop() function.\n",
    "# We have to mention the index inthe brackets\n",
    "c.pop(4)\n",
    "c\n",
    "print(c)\n",
    "\n",
    "# 2nd use remove() function.\n",
    "# Here we have to mention the value of the element we need to remove\n",
    "a = [1,2,3,'four',5]\n",
    "a.remove('four')\n",
    "print(a)"
   ]
  },
  {
   "cell_type": "markdown",
   "id": "ff1c1078",
   "metadata": {},
   "source": [
    "12. Describe how list values and string values are identical."
   ]
  },
  {
   "cell_type": "code",
   "execution_count": null,
   "id": "f07bf31c",
   "metadata": {},
   "outputs": [],
   "source": [
    "\"\"\"\n",
    "1. Sequenced Data: \n",
    "Both lists and strings are examples of sequenced data types,\n",
    "meaning they store collections of items that can be accessed by their position or index.\n",
    "\n",
    "2. Indexing: \n",
    "You can access individual elements in both lists and strings using indexing. \n",
    "Indexing starts from 0.\n",
    "\n",
    "3. Slicing: \n",
    "Both lists and strings support slicing, \n",
    "allowing you to extract sub-sequences from the original data.\n",
    "\n",
    "4. Iteration: \n",
    "You can iterate over the elements of both lists and strings using loops.\n",
    "\"\"\""
   ]
  },
  {
   "cell_type": "code",
   "execution_count": 1,
   "id": "d941784c",
   "metadata": {},
   "outputs": [
    {
     "name": "stdout",
     "output_type": "stream",
     "text": [
      "20\n",
      "t\n"
     ]
    }
   ],
   "source": [
    "# Example for Sequence data and indexing\n",
    "\n",
    "# Lists\n",
    "list1 = [10, 20, 30]\n",
    "print(list1[1]) \n",
    "\n",
    "# Strings\n",
    "str1 = \"Python\"\n",
    "print(str1[2])\n"
   ]
  },
  {
   "cell_type": "code",
   "execution_count": 2,
   "id": "8837ede8",
   "metadata": {},
   "outputs": [
    {
     "name": "stdout",
     "output_type": "stream",
     "text": [
      "[2, 3, 4]\n",
      "World\n"
     ]
    }
   ],
   "source": [
    "# Example for Slicing\n",
    "\n",
    "# Lists\n",
    "list2 = [1, 2, 3, 4, 5]\n",
    "slice_list = list2[1:4]\n",
    "print(slice_list) \n",
    "\n",
    "# Strings\n",
    "str2 = \"Hello, World!\"\n",
    "slice_string = str2[7:12]\n",
    "print(slice_string)"
   ]
  },
  {
   "cell_type": "code",
   "execution_count": 3,
   "id": "24535b3f",
   "metadata": {},
   "outputs": [
    {
     "name": "stdout",
     "output_type": "stream",
     "text": [
      "10\n",
      "20\n",
      "30\n",
      "P\n",
      "y\n",
      "t\n",
      "h\n",
      "o\n",
      "n\n"
     ]
    }
   ],
   "source": [
    "# Example for Iteratable\n",
    "\n",
    "# Lists\n",
    "list1 = [10, 20, 30]\n",
    "for i in list1:\n",
    "    print(i)\n",
    "\n",
    "# Strings\n",
    "str1 = \"Python\"\n",
    "for j in str1:\n",
    "    print(j)\n"
   ]
  },
  {
   "cell_type": "markdown",
   "id": "342a0bf1",
   "metadata": {},
   "source": [
    "13. What&#39;s the difference between tuples and lists?"
   ]
  },
  {
   "cell_type": "code",
   "execution_count": null,
   "id": "c1f4ac67",
   "metadata": {},
   "outputs": [],
   "source": [
    "\"\"\"\n",
    "1. Mutability:\n",
    "\n",
    "Lists are mutable, meaning you can modify their contents by changing, \n",
    "adding, or removing elements after they are created.\n",
    "\n",
    "Tuples are immutable, meaning once they are created, \n",
    "you cannot modify their contents. \n",
    "You need to create a new tuple if you want to make changes.\n",
    "\n",
    "2. Syntax:\n",
    "\n",
    "Lists are enclosed in square brackets [ ].\n",
    "Tuples are enclosed in parentheses ( ).\n",
    "\n",
    "3. Methods and Operations:\n",
    "\n",
    "Lists have a variety of built-in methods for manipulation,\n",
    "such as append(), insert(), remove(), and more.\n",
    "\n",
    "Tuples have fewer built-in methods since they are immutable,\n",
    "and they don't have methods that modify the tuple's content.\n",
    "\"\"\""
   ]
  },
  {
   "cell_type": "markdown",
   "id": "ba06406a",
   "metadata": {},
   "source": [
    "14. How do you type a tuple value that only contains the integer 42?"
   ]
  },
  {
   "cell_type": "code",
   "execution_count": 4,
   "id": "9927686a",
   "metadata": {},
   "outputs": [
    {
     "name": "stdout",
     "output_type": "stream",
     "text": [
      "(42,)\n"
     ]
    }
   ],
   "source": [
    "tuple1 = (42,)\n",
    "print(tuple1)\n",
    "\n",
    "# The comma , after the integer 42 is necessary to indicate that you are creating a tuple with a single element.\n",
    "# Without the comma, Python would interpret the expression as just an integer in parentheses, not a tuple."
   ]
  },
  {
   "cell_type": "code",
   "execution_count": 5,
   "id": "2d9212e5",
   "metadata": {},
   "outputs": [
    {
     "data": {
      "text/plain": [
       "tuple"
      ]
     },
     "execution_count": 5,
     "metadata": {},
     "output_type": "execute_result"
    }
   ],
   "source": [
    "type(tuple1)"
   ]
  },
  {
   "cell_type": "markdown",
   "id": "8973456a",
   "metadata": {},
   "source": [
    "15. How do you get a list value&#39;s tuple form? How do you get a tuple value&#39;s list form?"
   ]
  },
  {
   "cell_type": "code",
   "execution_count": 6,
   "id": "5a9f0449",
   "metadata": {},
   "outputs": [
    {
     "name": "stdout",
     "output_type": "stream",
     "text": [
      "(1, 2, 3, 'four')\n",
      "[5, 6, 7, 'eight']\n"
     ]
    }
   ],
   "source": [
    "# We can run list() function to convert the tuple to list\n",
    "# And we can use tuple() Function to convert the list into tuple\n",
    "# Converting list to tuple and visa versa\n",
    "a = [1,2,3,'four']\n",
    "b = (5,6,7,'eight')\n",
    "print(tuple(a))\n",
    "print(list(b))"
   ]
  },
  {
   "cell_type": "markdown",
   "id": "db7bd432",
   "metadata": {},
   "source": [
    "16. Variables that &quot;contain&quot; list values are not necessarily lists themselves. Instead, what do they\n",
    "contain?"
   ]
  },
  {
   "cell_type": "code",
   "execution_count": null,
   "id": "24fcd5e4",
   "metadata": {},
   "outputs": [],
   "source": [
    "\"\"\"\n",
    "Variables that \"contain\" list values in Python are not actually holding the list itself,\n",
    "but rather they hold references to the list.\n",
    "Variables store memory addresses that point to the location in memory where the list data is stored.\n",
    "\"\"\""
   ]
  },
  {
   "cell_type": "code",
   "execution_count": 8,
   "id": "dc87844d",
   "metadata": {},
   "outputs": [
    {
     "name": "stdout",
     "output_type": "stream",
     "text": [
      "[1, 2, 3, 4]\n",
      "[1, 2, 3, 4]\n"
     ]
    }
   ],
   "source": [
    "# Example\n",
    "list_a = [1, 2, 3]\n",
    "# Both list_a and list_b now reference the same list in memory\n",
    "list_b = list_a  \n",
    "\n",
    "# Modifying the list using list_b\n",
    "list_b.append(4)  \n",
    "\n",
    "print(list_a)  \n",
    "print(list_b)  \n",
    "\n",
    "# Both will get changed becuse both are pointing to same referance"
   ]
  },
  {
   "cell_type": "code",
   "execution_count": 11,
   "id": "25154161",
   "metadata": {},
   "outputs": [
    {
     "name": "stdout",
     "output_type": "stream",
     "text": [
      "(1, 2, 3)\n",
      "(1, 2, 3, 4)\n",
      "Hello\n",
      "Hello World\n"
     ]
    }
   ],
   "source": [
    "# This does not work with Tuple or string type immutable objects\n",
    "# Immutable objects: tuples and strings\n",
    "tuple_a = (1, 2, 3)\n",
    "string_a = \"Hello\"\n",
    "\n",
    "# Reassignment creates new objects\n",
    "tuple_b = tuple_a + (4,)\n",
    "string_b = string_a + \" World\"\n",
    "\n",
    "print(tuple_a)\n",
    "print(tuple_b)\n",
    "\n",
    "print(string_a)\n",
    "print(string_b)\n",
    "\n"
   ]
  },
  {
   "cell_type": "code",
   "execution_count": null,
   "id": "f446f435",
   "metadata": {},
   "outputs": [],
   "source": []
  },
  {
   "cell_type": "code",
   "execution_count": 12,
   "id": "c3f83a9e",
   "metadata": {},
   "outputs": [
    {
     "name": "stdout",
     "output_type": "stream",
     "text": [
      "0\n"
     ]
    }
   ],
   "source": [
    "\"\"\"\n",
    "The copy() method creates a shallow copy of an object. \n",
    "Shallow copy means that a new object is created, \n",
    "but any objects contained within the original object are still referenced by the new object. \n",
    "\n",
    "In other words, the top-level object is copied, \n",
    "but the nested objects are not.\n",
    "\"\"\"\n",
    "import copy\n",
    "\n",
    "original_list = [[1, 2, 3], [4, 5, 6]]\n",
    "shallow_copied_list = copy.copy(original_list)\n",
    "\n",
    "# Modifying the original list\n",
    "original_list[0][0] = 0\n",
    "# Output: 0 (both lists share the inner list)\n",
    "print(shallow_copied_list[0][0])\n",
    "\n",
    "# Here you can see that it does not preserve the inner list values. "
   ]
  },
  {
   "cell_type": "code",
   "execution_count": 14,
   "id": "dc0d4eff",
   "metadata": {},
   "outputs": [
    {
     "name": "stdout",
     "output_type": "stream",
     "text": [
      "1\n"
     ]
    }
   ],
   "source": [
    "\"\"\"\n",
    "The deepcopy() method, on the other hand, creates a deep copy of an object. \n",
    "Deep copy means that not only the top-level object is copied, \n",
    "but all the objects contained within the original object are also recursively copied.\n",
    "\n",
    "It makes sure that the copied object is indipendent of the origibal list\n",
    "\"\"\"\n",
    "import copy\n",
    "\n",
    "original_list = [[1, 2, 3], [4, 5, 6]]\n",
    "shallow_copied_list = copy.deepcopy(original_list)\n",
    "\n",
    "# Modifying the original list\n",
    "original_list[0][0] = 0\n",
    "# Output: 0 (both lists share the inner list)\n",
    "print(shallow_copied_list[0][0])\n",
    "\n",
    "# Here you can see that it does preserve the inner list values. \n",
    "# So the copied list is indipendent to the original list."
   ]
  }
 ],
 "metadata": {
  "kernelspec": {
   "display_name": "Python 3 (ipykernel)",
   "language": "python",
   "name": "python3"
  },
  "language_info": {
   "codemirror_mode": {
    "name": "ipython",
    "version": 3
   },
   "file_extension": ".py",
   "mimetype": "text/x-python",
   "name": "python",
   "nbconvert_exporter": "python",
   "pygments_lexer": "ipython3",
   "version": "3.11.4"
  }
 },
 "nbformat": 4,
 "nbformat_minor": 5
}
