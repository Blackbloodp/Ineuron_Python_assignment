{
 "cells": [
  {
   "cell_type": "markdown",
   "id": "ce12e4b7",
   "metadata": {},
   "source": [
    "1. What is the name of the feature responsible for generating Regex objects?"
   ]
  },
  {
   "cell_type": "code",
   "execution_count": null,
   "id": "5566fff3",
   "metadata": {},
   "outputs": [],
   "source": [
    " \"\"\"\n",
    " The feature responsible for generating regex (regular expression) objects in Python is\n",
    " the re.compile() function provided by the re module. \n",
    " This function compiles a regular expression pattern into a regex object \n",
    " \n",
    " We have to define a pattern and then we can use the re.compile(pattern)\n",
    " \"\"\""
   ]
  },
  {
   "cell_type": "markdown",
   "id": "67705b1c",
   "metadata": {},
   "source": [
    "2. Why do raw strings often appear in Regex objects?"
   ]
  },
  {
   "cell_type": "code",
   "execution_count": null,
   "id": "821c33a4",
   "metadata": {},
   "outputs": [],
   "source": [
    "\"\"\"\n",
    "1. Readability\n",
    "It makes the pattern more readable specially where you have many \\ present\n",
    "\n",
    "2. Pattern Clearity\n",
    "It makes it clearer by removing some of the special characters like * [ and .\n",
    "Example\n",
    "regular E:- '\\.'\n",
    "raw string:- r'.' \n",
    "\n",
    "3. Escape Sequences\n",
    "In raw string we don't have to put to many \\ because \n",
    "in raw string the backslash is treated as a literal \\\n",
    "example\n",
    "to match a pattern with \\\n",
    "raw string:- r\"\\\\\"\n",
    "regualr string:- '\\\\\\\\'\n",
    "\"\"\""
   ]
  },
  {
   "cell_type": "markdown",
   "id": "5d65f870",
   "metadata": {},
   "source": [
    "3. What is the return value of the search() method?"
   ]
  },
  {
   "cell_type": "code",
   "execution_count": 17,
   "id": "c3704faa",
   "metadata": {},
   "outputs": [
    {
     "name": "stdout",
     "output_type": "stream",
     "text": [
      "28-08-2023\n"
     ]
    }
   ],
   "source": [
    "# The search() function returs the match object\n",
    "import re\n",
    "\n",
    "pattern = re.compile(r'(\\d{2})-(\\d{2})-(\\d{4})')\n",
    "\n",
    "text = \"Today's date is 28-08-2023.\"\n",
    "result = pattern.search(text)\n",
    "print(result.group())  \n"
   ]
  },
  {
   "cell_type": "markdown",
   "id": "7e33642e",
   "metadata": {},
   "source": [
    "4. From a Match item, how do you get the actual strings that match the pattern?"
   ]
  },
  {
   "cell_type": "code",
   "execution_count": 20,
   "id": "06409ba9",
   "metadata": {},
   "outputs": [
    {
     "name": "stdout",
     "output_type": "stream",
     "text": [
      "28\n",
      "08\n",
      "2023\n"
     ]
    }
   ],
   "source": [
    "\"\"\"\n",
    "By using the group() Function you can get the match string \n",
    "after performing the search function. as in the above example\n",
    "\n",
    "If you want all the 3 group of strings\n",
    "provided the pattern has the group defined using ()\n",
    "amd then we need to pass match.group(1), match.group(2) and match.group(3)\n",
    "to get all the 3 group value 28, 08 and 2023 respectively\n",
    "As shone below\n",
    "\"\"\"\n",
    "\n",
    "print(result.group(1))\n",
    "print(result.group(2))\n",
    "print(result.group(3))"
   ]
  },
  {
   "cell_type": "markdown",
   "id": "16f4deb1",
   "metadata": {},
   "source": [
    "5. In the regex which created from the r&#39;(\\d\\d\\d)-(\\d\\d\\d-\\d\\d\\d\\d)&#39;, what does group zero cover?\n",
    "Group 2? Group 1?"
   ]
  },
  {
   "cell_type": "code",
   "execution_count": null,
   "id": "87a7446b",
   "metadata": {},
   "outputs": [],
   "source": [
    "\"\"\"\n",
    "In r'(\\d\\d\\d)-(\\d\\d\\d-\\d\\d\\d\\d)'\n",
    "group(0) covers the Full match\n",
    "group(1) covers only the first group which is (\\d\\d\\d)\n",
    "group(2) covers the lst group (\\d\\d\\d-\\d\\d\\d\\d)\n",
    "\"\"\""
   ]
  },
  {
   "cell_type": "markdown",
   "id": "a985969b",
   "metadata": {},
   "source": [
    "6. In standard expression syntax, parentheses and intervals have distinct meanings. How can you tell\n",
    "a regex that you want it to fit real parentheses and periods?"
   ]
  },
  {
   "cell_type": "code",
   "execution_count": 28,
   "id": "21739a37",
   "metadata": {},
   "outputs": [
    {
     "name": "stdout",
     "output_type": "stream",
     "text": [
      "Match found: (exampl.e)\n"
     ]
    }
   ],
   "source": [
    "# By adding \\ so it will act as an escape character\n",
    "# Example\n",
    "import re\n",
    "\n",
    "text = \"(exampl.e has all the element of (exampl.e))\"\n",
    "pattern = r'\\(exampl\\.e\\)'  # Use backslashes to escape parentheses\n",
    "\n",
    "match = re.search(pattern, text)\n",
    "if match:\n",
    "    print(\"Match found:\", match.group())\n",
    "else:\n",
    "    print(\"No match found\")"
   ]
  },
  {
   "cell_type": "markdown",
   "id": "6c2df438",
   "metadata": {},
   "source": [
    "7. The findall() method returns a string list or a list of string tuples. What causes it to return one of\n",
    "the two options?"
   ]
  },
  {
   "cell_type": "code",
   "execution_count": 30,
   "id": "32bc2eec",
   "metadata": {},
   "outputs": [
    {
     "name": "stdout",
     "output_type": "stream",
     "text": [
      "[('28', '08', '2023'), ('01', '01', '2022')]\n"
     ]
    }
   ],
   "source": [
    "\"\"\"\n",
    "findall() returns either a list of strings or a list of string tuples\n",
    "depending on the presence of capturing groups in the regex pattern.\n",
    "\"\"\"\n",
    "# Example for the list:\n",
    "\n",
    "# Same example as question 6\n",
    "\n",
    "# Example for the list of string tuple\n",
    "import re\n",
    "\n",
    "text = \"The dates are 28-08-2023 and 01-01-2022.\" \n",
    "pattern = r'(\\d{2})-(\\d{2})-(\\d{4})'  # Added groups in the pattern\n",
    "matches = re.findall(pattern, text)\n",
    "print(matches)"
   ]
  },
  {
   "cell_type": "markdown",
   "id": "9f9695ff",
   "metadata": {},
   "source": [
    "8. In standard expressions, what does the | character mean?"
   ]
  },
  {
   "cell_type": "code",
   "execution_count": 32,
   "id": "f11e0f14",
   "metadata": {},
   "outputs": [
    {
     "name": "stdout",
     "output_type": "stream",
     "text": [
      "['dog']\n",
      "['cat']\n"
     ]
    }
   ],
   "source": [
    "\"\"\"\n",
    "| acts like a boolean or operation \n",
    "where the pattern will try to math either of the options\n",
    "\"\"\"\n",
    "# Example\n",
    "import re\n",
    "\n",
    "pattern = r'dog|cat' # It will try to search for both cat and dog\n",
    "text = \"I have a dog.\"\n",
    "text1 = \"I have a cat.\"\n",
    "\n",
    "matches = re.findall(pattern, text)\n",
    "matches1 = re.findall(pattern, text1)\n",
    "print(matches)\n",
    "print(matches1)"
   ]
  },
  {
   "cell_type": "markdown",
   "id": "a4040707",
   "metadata": {},
   "source": [
    "9. In regular expressions, what does the character stand for?"
   ]
  },
  {
   "cell_type": "code",
   "execution_count": 33,
   "id": "8796fa4a",
   "metadata": {},
   "outputs": [
    {
     "name": "stdout",
     "output_type": "stream",
     "text": [
      "['a', 'b', 'c', ' ', 'd', 'e', 'f', 'g', 'h', 'i', ' ', 'j', 'k', 'l']\n"
     ]
    }
   ],
   "source": [
    "# There are no character given in the question\n",
    "# So I will assume '.'\n",
    "\n",
    "\"\"\"\n",
    "'.' matches all the characters except the new line\n",
    "\"\"\"\n",
    "# Example:\n",
    "import re\n",
    "\n",
    "text = \"abc def\\nghi jkl\"\n",
    "pattern = r'.'  # Matches any character except newline\n",
    "\n",
    "matches = re.findall(pattern, text)\n",
    "print(matches)\n",
    "\n",
    "# to match the new line we neet to use re.DOTALL flag"
   ]
  },
  {
   "cell_type": "markdown",
   "id": "d44f8fc8",
   "metadata": {},
   "source": [
    "10. In regular expressions, what is the difference between the + and * characters?"
   ]
  },
  {
   "cell_type": "code",
   "execution_count": null,
   "id": "8195cc53",
   "metadata": {},
   "outputs": [],
   "source": [
    "\"\"\"\n",
    "'+' :-\n",
    "\n",
    "Matches one or more occurrences of the preceding character or group.\n",
    "It requires at least one occurrence to match,\n",
    "and it will match additional occurrences if they are present.\n",
    "It does not match zero occurrences.\n",
    "\n",
    "Example: The pattern b\\w+ matches one or more digits.\n",
    "\n",
    "\"b\" matches nothing.\n",
    "\"be\" matches \"be\"\n",
    "\"bee\" matches \"bee\"\n",
    "\n",
    "'*' :-\n",
    "\n",
    "Matches zero or more occurrences of the preceding character or group.\n",
    "It matches any number of occurrences, including zero.\n",
    "It can match zero occurrences.\n",
    "\n",
    "Example: The pattern b\\w* matches one or more digits.\n",
    "\n",
    "\"b\" matches \"b\".\n",
    "\"be\" matches \"be\"\n",
    "\"bee\" matches \"bee\"\n",
    "\"\"\""
   ]
  },
  {
   "cell_type": "markdown",
   "id": "e5b89d09",
   "metadata": {},
   "source": [
    "11. What is the difference between {4} and {4,5} in regular expression?"
   ]
  },
  {
   "cell_type": "code",
   "execution_count": 1,
   "id": "6ac5e276",
   "metadata": {},
   "outputs": [
    {
     "name": "stdout",
     "output_type": "stream",
     "text": [
      "['bee', 'bee', 'bee']\n",
      "['bee', 'beer', 'beer']\n"
     ]
    }
   ],
   "source": [
    "\"\"\"\n",
    "\n",
    "In regular expressions, the curly braces {} are used\n",
    "to specify the exact number of occurrences \n",
    "or a range of occurrences for a preceding character or group.\n",
    "\n",
    "{4} in a regex will match only 4 characters \n",
    "where {4,5} will match 4 and 5 characters\n",
    "Here 4 and 5 are range from where the match will happen\n",
    "4 is the starting and 5 is the ending rang\n",
    "\n",
    "\"\"\"\n",
    "# Example\n",
    "import re\n",
    "\n",
    "text = \"b be bee beer beers\"\n",
    "pattern = '(b\\w{2})'  # Matches any character after b till 2 places\n",
    "pattern1 = '(b\\w{2,3})'  # Matches any character after b till 2 & 3 places\n",
    "\n",
    "matches = re.findall(pattern, text)\n",
    "print(matches)\n",
    "matches1 = re.findall(pattern1, text)\n",
    "print(matches1)\n",
    "\n",
    "# to match the new line we neet to use re.DOTALL flag"
   ]
  },
  {
   "cell_type": "markdown",
   "id": "9cf8e5a9",
   "metadata": {},
   "source": [
    "12. What do you mean by the \\d, \\w, and \\s shorthand character classes signify in regular\n",
    "expressions?"
   ]
  },
  {
   "cell_type": "code",
   "execution_count": 5,
   "id": "8a7debbe",
   "metadata": {},
   "outputs": [
    {
     "name": "stdout",
     "output_type": "stream",
     "text": [
      "['9', '1', '1', '2', '4', '5', '9', '5', '4', '1', '5', '3']\n",
      "['b', 'o', 'n', 'j', 'o', 'u', 'r', 'm', 'o', 'n', 'f', 'r', '_', 'r', 'e', '1', '2', '3', '4']\n",
      "[' ', ' ', ' ']\n"
     ]
    }
   ],
   "source": [
    "\"\"\"\n",
    "\\d:\n",
    "\n",
    "Represents any digit character (0-9).\n",
    "It is equivalent to the character range [0-9].\n",
    "\"\"\"\n",
    "# Example\n",
    "import re\n",
    "\n",
    "text = \"+91 12459 54 153\"\n",
    "pattern = '(\\d)'  # Matches any digit\n",
    "\n",
    "matches = re.findall(pattern, text)\n",
    "print(matches)\n",
    "\n",
    "\"\"\"\n",
    "\\w:\n",
    "\n",
    "Represents any word character, which includes letters \n",
    "(both uppercase and lowercase), digits, and underscores.\n",
    "It is equivalent to the character range [a-zA-Z0-9_].\n",
    "\"\"\"\n",
    "# Example\n",
    "import re\n",
    "\n",
    "text = \"bonjour, mon fr_re 1234&\"\n",
    "pattern = '(\\w)'  # Matches any character (alphabatical and underscore)\n",
    "\n",
    "matches = re.findall(pattern, text)\n",
    "print(matches)\n",
    "\n",
    "\"\"\"\n",
    "\\s:\n",
    "\n",
    "Represents any whitespace character, including spaces, tabs,\n",
    "and newline characters.\n",
    "It is equivalent to the character range [ \\t\\n\\r\\f\\v].\n",
    "\"\"\"\n",
    "# Example\n",
    "import re\n",
    "\n",
    "text = \"bonjour, mon fr_re 1234&\"\n",
    "pattern = '(\\s)'  # Matches any character (alphabatical and underscore)\n",
    "\n",
    "matches = re.findall(pattern, text)\n",
    "print(matches)"
   ]
  },
  {
   "cell_type": "markdown",
   "id": "c9899a0d",
   "metadata": {},
   "source": [
    "13. What do means by \\D, \\W, and \\S shorthand character classes signify in regular expressions?"
   ]
  },
  {
   "cell_type": "code",
   "execution_count": 6,
   "id": "9296f089",
   "metadata": {},
   "outputs": [
    {
     "name": "stdout",
     "output_type": "stream",
     "text": [
      "['+', ' ', ' ', ' ']\n",
      "[',', ' ', ' ', ' ', '&']\n",
      "['b', 'o', 'n', 'j', 'o', 'u', 'r', ',', 'm', 'o', 'n', 'f', 'r', '_', 'r', 'e', '1', '2', '3', '4', '&']\n"
     ]
    }
   ],
   "source": [
    "\"\"\"\n",
    "\\D:\n",
    "\n",
    "Represents any character that is not a digit.\n",
    "It is the negation of \\d.\n",
    "\"\"\"\n",
    "# Example\n",
    "import re\n",
    "\n",
    "text = \"+91 12459 54 153\"\n",
    "pattern = '(\\D)'  # Matches any digit\n",
    "\n",
    "matches = re.findall(pattern, text)\n",
    "print(matches)\n",
    "\n",
    "\"\"\"\n",
    "\\W:\n",
    "\n",
    "Represents any character that is not a word character.\n",
    "It matches characters that are not letters (both uppercase and lowercase),\n",
    "digits, or underscores.\n",
    "It is the negation of \\w.\n",
    "\"\"\"\n",
    "# Example\n",
    "import re\n",
    "\n",
    "text = \"bonjour, mon fr_re 1234&\"\n",
    "pattern = '(\\W)'  # Matches any character (alphabatical and underscore)\n",
    "\n",
    "matches = re.findall(pattern, text)\n",
    "print(matches)\n",
    "\n",
    "\"\"\"\n",
    "\\S:\n",
    "\n",
    "Represents any character that is not a whitespace character.\n",
    "It is the negation of \\s.\n",
    "\"\"\"\n",
    "# Example\n",
    "import re\n",
    "\n",
    "text = \"bonjour, mon fr_re 1234&\"\n",
    "pattern = '(\\S)'  # Matches any character (alphabatical and underscore)\n",
    "\n",
    "matches = re.findall(pattern, text)\n",
    "print(matches)"
   ]
  },
  {
   "cell_type": "markdown",
   "id": "216e5c88",
   "metadata": {},
   "source": [
    "14. What is the difference between .*? and .*?"
   ]
  },
  {
   "cell_type": "code",
   "execution_count": 7,
   "id": "58bc877a",
   "metadata": {},
   "outputs": [
    {
     "name": "stdout",
     "output_type": "stream",
     "text": [
      "Greedy Match: aababacabb\n",
      "Lazy Match: aab\n"
     ]
    }
   ],
   "source": [
    "\"\"\"\n",
    "The difference between .*? and .* in regular expressions \n",
    "lies in their behavior regarding greediness and non-greediness, \n",
    "also known as \"lazy\" and \"greedy\" quantifiers, respectively:\n",
    "\n",
    ".* (Greedy Quantifier):\n",
    "\n",
    ".* is a greedy quantifier,\n",
    "which means it tries to match as much as possible \n",
    "while still allowing the rest of the pattern to match.\n",
    "\n",
    "It will match the longest possible substring\n",
    "that satisfies the entire regular expression.\n",
    "\"\"\"\n",
    "# Example\n",
    "import re\n",
    "\n",
    "text = \"aababacabb\"\n",
    "pattern_greedy = r'a.*b'\n",
    "\n",
    "match_greedy = re.search(pattern_greedy, text)\n",
    "if match_greedy:\n",
    "    print(\"Greedy Match:\", match_greedy.group())\n",
    "else:\n",
    "    print(\"No greedy match found\")\n",
    "\n",
    "\n",
    "\"\"\"\n",
    ".*? (Lazy Quantifier):\n",
    "\n",
    ".*? is a lazy quantifier, \n",
    "also known as a non-greedy quantifier. \n",
    "It matches as little as possible \n",
    "while still allowing the rest of the pattern to match.\n",
    "\n",
    "It will match the shortest possible substring \n",
    "that satisfies the entire regular expression.\n",
    "\"\"\"\n",
    "# Example\n",
    "import re\n",
    "\n",
    "text = \"aababacabb\"\n",
    "pattern_lazy = r'a.*?b'\n",
    "\n",
    "match_lazy = re.search(pattern_lazy, text)\n",
    "if match_lazy:\n",
    "    print(\"Lazy Match:\", match_lazy.group())\n",
    "else:\n",
    "    print(\"No lazy match found\")\n"
   ]
  },
  {
   "cell_type": "markdown",
   "id": "39907ac3",
   "metadata": {},
   "source": [
    "15. What is the syntax for matching both numbers and lowercase letters with a character class?"
   ]
  },
  {
   "cell_type": "code",
   "execution_count": 9,
   "id": "6d9ddf26",
   "metadata": {},
   "outputs": [
    {
     "name": "stdout",
     "output_type": "stream",
     "text": [
      "['o', 'n', 'j', 'o', 'u', 'r', 'o', 'n', 'r', 'r', 'e', '1', '2', '3', '4']\n"
     ]
    }
   ],
   "source": [
    "# Syntax for matching number and lowercase letters is [a-z0-9]\n",
    "# Example\n",
    "import re\n",
    "\n",
    "text = \"Bonjour, Mon Fr_re 1234&\"\n",
    "pattern = '[a-z0-9]'  # Matches any character (alphabatical and underscore)\n",
    "\n",
    "matches = re.findall(pattern, text)\n",
    "print(matches)"
   ]
  },
  {
   "cell_type": "markdown",
   "id": "e630cd0b",
   "metadata": {},
   "source": [
    "16. What is the procedure for making a normal expression in regax case insensitive?"
   ]
  },
  {
   "cell_type": "code",
   "execution_count": 14,
   "id": "c608bc98",
   "metadata": {},
   "outputs": [
    {
     "name": "stdout",
     "output_type": "stream",
     "text": [
      "Match found: Apple\n"
     ]
    }
   ],
   "source": [
    "\"\"\"\n",
    "In regular expressions, \n",
    "you can make a regular expression pattern case-insensitive \n",
    "by using the re.IGNORECASE flag (or re.I for short) \n",
    "when compiling the pattern or when using functions \n",
    "like re.search() or re.findall(). \n",
    "This flag instructs the regex engine to perform case-insensitive matching.\n",
    "\"\"\"\n",
    "# Example\n",
    "import re\n",
    "\n",
    "pattern = r'apple'\n",
    "text = \"I have an Apple and an APPLE.\"\n",
    "\n",
    "match = re.search(pattern, text, re.I)  # (case-insensitive) flag\n",
    "if match:\n",
    "    print(\"Match found:\", match.group())\n",
    "else:\n",
    "    print(\"No match found\")\n"
   ]
  },
  {
   "cell_type": "markdown",
   "id": "6f332db8",
   "metadata": {},
   "source": [
    "17. What does the . character normally match? What does it match if re.DOTALL is passed as 2nd\n",
    "argument in re.compile()?"
   ]
  },
  {
   "cell_type": "code",
   "execution_count": 17,
   "id": "4e2cb7f2",
   "metadata": {},
   "outputs": [
    {
     "name": "stdout",
     "output_type": "stream",
     "text": [
      "Normal Matches: ['L', 'i', 'n', 'e', ' ', '1', 'L', 'i', 'n', 'e', ' ', '2']\n",
      "Dotall Matches: ['L', 'i', 'n', 'e', ' ', '1', '\\n', 'L', 'i', 'n', 'e', ' ', '2']\n"
     ]
    }
   ],
   "source": [
    "\"\"\"\n",
    "In regular expressions, \n",
    "the . character (dot) normally matches\n",
    "any character except for a newline (\\n).\n",
    "\n",
    "However, when the re.DOTALL (or re.S) flag is passed\n",
    "as the second argument to re.compile(), \n",
    "it changes the behavior of the dot . to match any character, \n",
    "including newline characters (\\n). In other words, \n",
    "it makes the dot . match absolutely any character in the input text.\n",
    "\"\"\"\n",
    "# Example\n",
    "import re\n",
    "\n",
    "text = \"Line 1\\nLine 2\"\n",
    "\n",
    "# Normal behavior:\n",
    "pattern_normal = re.compile(r'.')\n",
    "matches_normal = pattern_normal.findall(text)\n",
    "print(\"Normal Matches:\", matches_normal)\n",
    "\n",
    "# With re.DOTALL flag:\n",
    "pattern_dotall = re.compile(r'.', re.DOTALL)\n",
    "matches_dotall = pattern_dotall.findall(text)\n",
    "print(\"Dotall Matches:\", matches_dotall)\n"
   ]
  },
  {
   "cell_type": "markdown",
   "id": "5e97597f",
   "metadata": {},
   "source": [
    "18. If numReg = re.compile(r&#39;\\d+&#39;), what will numRegex.sub(&#39;X&#39;, &#39;11 drummers, 10 pipers, five rings, 4\n",
    "hen&#39;) return?"
   ]
  },
  {
   "cell_type": "code",
   "execution_count": 26,
   "id": "8609dd9f",
   "metadata": {},
   "outputs": [
    {
     "name": "stdout",
     "output_type": "stream",
     "text": [
      "Result is : X drummers, X pipers, five rings, X hen\n"
     ]
    }
   ],
   "source": [
    "# In the Question numReg should be numRegex for the code to work\n",
    "# otherwise it will say we have never defined numRegex\n",
    "\n",
    "\"\"\"\n",
    "The re.sub() function in Python's re module\n",
    "is used for replacing occurrences of a pattern in a string\n",
    "with a specified replacement. \n",
    "\n",
    "It allows you to perform substitutions based on regular expressions.\n",
    "\"\"\"\n",
    "# In the code the test file is \n",
    "# '11 drummers, 10 pipers, five rings, 4 hen'\n",
    "\n",
    "# and since the patter is made outside with .compile()\n",
    "# X becomes the replacement object\n",
    "\n",
    "# \\d+ means matching all the number characters\n",
    "\n",
    "import re\n",
    "\n",
    "numRegex = re.compile(r'\\d+')\n",
    "match = numRegex.sub('X', '11 drummers, 10 pipers, five rings, 4 hen')\n",
    "print(\"Result is :\", match)"
   ]
  },
  {
   "cell_type": "markdown",
   "id": "9de53f0a",
   "metadata": {},
   "source": [
    "19. What does passing re.VERBOSE as the 2nd argument to re.compile() allow to do?"
   ]
  },
  {
   "cell_type": "code",
   "execution_count": null,
   "id": "86889b3c",
   "metadata": {},
   "outputs": [],
   "source": [
    "\"\"\"\n",
    "re.VERBOSE (or re.X):\n",
    "\n",
    "Enables verbose mode, \n",
    "allowing you to write more readable regular expressions \n",
    "by ignoring whitespace and adding comments.\n",
    "\"\"\"\n",
    "\"\"\"\n",
    "\n",
    "pattern = re.compile(r'''\n",
    "    \\d{3}   # Match three digits\n",
    "    -       # Match a hyphen\n",
    "    \\d{2}   # Match two more digits\n",
    "''', re.VERBOSE)\n",
    "\n",
    "\"\"\"\n"
   ]
  },
  {
   "cell_type": "markdown",
   "id": "6c29c659",
   "metadata": {},
   "source": [
    "20. How would you write a regex that match a number with comma for every three digits? It must\n",
    "match the given following:\n",
    "\n",
    "&#39;42&#39;\n",
    "\n",
    "&#39;1,234&#39;\n",
    "\n",
    "&#39;6,368,745&#39;\n",
    "\n",
    "but not the following:\n",
    "\n",
    "&#39;12,34,567&#39; (which has only two digits between the commas)\n",
    "\n",
    "&#39;1234&#39; (which lacks commas)"
   ]
  },
  {
   "cell_type": "code",
   "execution_count": 16,
   "id": "88690b7f",
   "metadata": {},
   "outputs": [
    {
     "name": "stdout",
     "output_type": "stream",
     "text": [
      "Enter the text you want to match against: 6,368,745\n",
      "Result: 6,368,745\n"
     ]
    }
   ],
   "source": [
    "# Solution\n",
    "import re\n",
    "\n",
    "text = str(input(\"Enter the text you want to match against: \"))\n",
    "pattern = re.compile(r'^\\d{1,3}(,\\d{3})*$')\n",
    "\n",
    "match = pattern.match(text)\n",
    "print(\"Result:\",match.group())"
   ]
  },
  {
   "cell_type": "code",
   "execution_count": null,
   "id": "b52dbae6",
   "metadata": {},
   "outputs": [],
   "source": [
    "\"\"\"\n",
    "In this we need to add ^ and $ to indicate the start and the end of the pattern\n",
    "so that the code does not match just the initail values\n",
    "and knows where to start the matching and where to end the matching\n",
    "\"\"\""
   ]
  },
  {
   "cell_type": "markdown",
   "id": "abb99c1e",
   "metadata": {},
   "source": [
    "21. How would you write a regex that matches the full name of someone whose last name is\n",
    "Watanabe? You can assume that the first name that comes before it will always be one word that\n",
    "begins with a capital letter. The regex must match the following:\n",
    "    \n",
    "&#39;Haruto Watanabe&#39;\n",
    "\n",
    "&#39;Alice Watanabe&#39;\n",
    "\n",
    "&#39;RoboCop Watanabe&#39;\n",
    "\n",
    "but not the following:\n",
    "    \n",
    "&#39;haruto Watanabe&#39; (where the first name is not capitalized)\n",
    "\n",
    "&#39;Mr. Watanabe&#39; (where the preceding word has a nonletter character)\n",
    "\n",
    "&#39;Watanabe&#39; (which has no first name)\n",
    "\n",
    "&#39;Haruto watanabe&#39; (where Watanabe is not capitalized)"
   ]
  },
  {
   "cell_type": "code",
   "execution_count": 19,
   "id": "f7bbd6bd",
   "metadata": {},
   "outputs": [
    {
     "name": "stdout",
     "output_type": "stream",
     "text": [
      "Enter the text you want to match against: Watanabe\n",
      "Result: None\n"
     ]
    }
   ],
   "source": [
    "# Solution\n",
    "import re\n",
    "\n",
    "text = str(input(\"Enter the text you want to match against: \"))\n",
    "pattern = re.compile(r'[A-Z][A-Za-z]*\\sWatanabe')\n",
    "\n",
    "match = pattern.match(text)\n",
    "print(\"Result:\",match)"
   ]
  },
  {
   "cell_type": "markdown",
   "id": "8f3db86d",
   "metadata": {},
   "source": [
    "22. How would you write a regex that matches a sentence where the first word is either Alice, Bob,\n",
    "or Carol; the second word is either eats, pets, or throws; the third word is apples, cats, or baseballs;\n",
    "and the sentence ends with a period? This regex should be case-insensitive. It must match the\n",
    "following:\n",
    "    \n",
    "&#39;Alice eats apples.&#39;\n",
    "\n",
    "&#39;Bob pets cats.&#39;\n",
    "\n",
    "&#39;Carol throws baseballs.&#39;\n",
    "\n",
    "&#39;Alice throws Apples.&#39;\n",
    "\n",
    "&#39;BOB EATS CATS.&#39;\n",
    "\n",
    "but not the following:\n",
    "    \n",
    "&#39;RoboCop eats apples.&#39;\n",
    "\n",
    "&#39;ALICE THROWS FOOTBALLS.&#39;\n",
    "\n",
    "&#39;Carol eats 7 cats.&#39;"
   ]
  },
  {
   "cell_type": "code",
   "execution_count": 35,
   "id": "15c96e6a",
   "metadata": {},
   "outputs": [
    {
     "name": "stdout",
     "output_type": "stream",
     "text": [
      "Enter the text you want to match against: RoboCop eats apples.\n",
      "No match found\n"
     ]
    }
   ],
   "source": [
    "# Solution\n",
    "import re\n",
    "\n",
    "text = str(input(\"Enter the text you want to match against: \"))\n",
    "pattern = r'(Alice|Bob|Carol)\\s(eats|pets|throws)\\s(apples|cats|baseballs)\\.'\n",
    "\n",
    "matchs = re.match(pattern,text,re.I)\n",
    "if matchs:\n",
    "    print(\"Match found:\", matchs.group())\n",
    "else:\n",
    "    print(\"No match found\")"
   ]
  },
  {
   "cell_type": "code",
   "execution_count": null,
   "id": "c81d3893",
   "metadata": {},
   "outputs": [],
   "source": [
    "\"\"\"\n",
    "Used an if statment because\n",
    "in case of error the print statment does not work\n",
    "because match returs a NoneType\n",
    "\"\"\""
   ]
  }
 ],
 "metadata": {
  "kernelspec": {
   "display_name": "Python 3 (ipykernel)",
   "language": "python",
   "name": "python3"
  },
  "language_info": {
   "codemirror_mode": {
    "name": "ipython",
    "version": 3
   },
   "file_extension": ".py",
   "mimetype": "text/x-python",
   "name": "python",
   "nbconvert_exporter": "python",
   "pygments_lexer": "ipython3",
   "version": "3.11.4"
  }
 },
 "nbformat": 4,
 "nbformat_minor": 5
}
