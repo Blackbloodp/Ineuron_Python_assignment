{
 "cells": [
  {
   "cell_type": "markdown",
   "id": "4ac19f46",
   "metadata": {},
   "source": [
    "1. Why are functions advantageous to have in your programs?"
   ]
  },
  {
   "cell_type": "code",
   "execution_count": null,
   "id": "69d5a376",
   "metadata": {},
   "outputs": [],
   "source": [
    "\"\"\"\n",
    "Functions are advantageous to have in programming \n",
    "because we can call them again and again in the program to perform the same task,\n",
    "instred of writing the whole logic of that function again and again\n",
    "\n",
    "\"\"\""
   ]
  },
  {
   "cell_type": "markdown",
   "id": "3549b788",
   "metadata": {},
   "source": [
    "2. When does the code in a function run: when it&#39;s specified or when it&#39;s called?"
   ]
  },
  {
   "cell_type": "code",
   "execution_count": null,
   "id": "08db750d",
   "metadata": {},
   "outputs": [],
   "source": [
    "\"\"\"\n",
    "A function has to be defined first and once its defined\n",
    "to run the function we need to call that function\n",
    "Example:\n",
    "\n",
    "def test(a,b):  # will define the function\n",
    "\n",
    "test(2,3) # will call the function to run\n",
    "\"\"\""
   ]
  },
  {
   "cell_type": "markdown",
   "id": "0203b993",
   "metadata": {},
   "source": [
    "3. What statement creates a function?"
   ]
  },
  {
   "cell_type": "code",
   "execution_count": 2,
   "id": "95394698",
   "metadata": {},
   "outputs": [
    {
     "data": {
      "text/plain": [
       "5"
      ]
     },
     "execution_count": 2,
     "metadata": {},
     "output_type": "execute_result"
    }
   ],
   "source": [
    "# Here def statment creates the dunction \n",
    "# Example\n",
    "\n",
    "def test(a):\n",
    "    return a\n",
    "\n",
    "test(5)"
   ]
  },
  {
   "cell_type": "markdown",
   "id": "23dc6e0c",
   "metadata": {},
   "source": [
    "4. What is the difference between a function and a function call?"
   ]
  },
  {
   "cell_type": "code",
   "execution_count": null,
   "id": "c7628752",
   "metadata": {},
   "outputs": [],
   "source": [
    "\"\"\"\n",
    "Function: A function is a set of code writen to perfom an operation \n",
    "and return a result and then the intire code (operation) is stored in that key word\n",
    "\n",
    "Function Call: Function call is an expression containing the function name\n",
    "followed by the function call operator, (). \n",
    "Which calling the function to run the already programmed operation\n",
    "\"\"\""
   ]
  },
  {
   "cell_type": "markdown",
   "id": "493497a1",
   "metadata": {},
   "source": [
    "5. How many global scopes are there in a Python program? How many local scopes?"
   ]
  },
  {
   "cell_type": "code",
   "execution_count": null,
   "id": "63dcb7d9",
   "metadata": {},
   "outputs": [],
   "source": [
    "\"\"\"\n",
    "Global In a perticular program there is one one scope. \n",
    "Once the program is terminated the scope gets reset \n",
    "and all the variables gets forgotten\n",
    "\n",
    "A variable created inside a function belongs to the local scope of that function,\n",
    "and can only be used inside that function. \n",
    "So as many functions we create that many locak scops we hcan have in a program.\n",
    "\"\"\""
   ]
  },
  {
   "cell_type": "markdown",
   "id": "47c49cdd",
   "metadata": {},
   "source": [
    "6. What happens to variables in a local scope when the function call returns?"
   ]
  },
  {
   "cell_type": "code",
   "execution_count": 3,
   "id": "8c261f2a",
   "metadata": {},
   "outputs": [
    {
     "data": {
      "text/plain": [
       "(10, 20, 50)"
      ]
     },
     "execution_count": 3,
     "metadata": {},
     "output_type": "execute_result"
    }
   ],
   "source": [
    "# Example\n",
    "a,b,c = 10,20,30\n",
    "\n",
    "def test1(a,b):\n",
    "  c = 50\n",
    "  return a,b,c\n",
    "\n",
    "test1(10,20)"
   ]
  },
  {
   "cell_type": "code",
   "execution_count": 4,
   "id": "77ccf51b",
   "metadata": {},
   "outputs": [
    {
     "data": {
      "text/plain": [
       "30"
      ]
     },
     "execution_count": 4,
     "metadata": {},
     "output_type": "execute_result"
    }
   ],
   "source": [
    "c"
   ]
  },
  {
   "cell_type": "code",
   "execution_count": null,
   "id": "f76dd9bb",
   "metadata": {},
   "outputs": [],
   "source": [
    "\"\"\"\n",
    "As per the example above\n",
    "Each call of the function creates new local variables, \n",
    "and their lifetimes expire when the function returns to the caller\n",
    "So as we can see in the example that\n",
    "The test1 function returns cvalue as 50 \n",
    "but once we call c again it gives 30 only. \n",
    "So, the lifetime of that local variable life ended with the call of that function. \n",
    "And Python returns the global value of that variable when called.\n",
    "\"\"\""
   ]
  },
  {
   "cell_type": "markdown",
   "id": "f588bbfb",
   "metadata": {},
   "source": [
    "7. What is the concept of a return value? Is it possible to have a return value in an expression?"
   ]
  },
  {
   "cell_type": "code",
   "execution_count": null,
   "id": "a024693e",
   "metadata": {},
   "outputs": [],
   "source": [
    "\"\"\"\n",
    "A return statement is used\n",
    "to end the execution of the function and “returns” the result \n",
    "(value of the expression following the return keyword) to the caller.\n",
    "The statements after the return statements are not executed. \n",
    "If the return statement is without any expression, \n",
    "then the special value None is returned.\n",
    "\n",
    "Return statment cannot be used outside a function. \n",
    "Because just in a expression, \n",
    "there is no caller to which the return can return the values\n",
    "\"\"\""
   ]
  },
  {
   "cell_type": "markdown",
   "id": "7bc68516",
   "metadata": {},
   "source": [
    "8. If a function does not have a return statement, what is the return value of a call to that function?"
   ]
  },
  {
   "cell_type": "code",
   "execution_count": null,
   "id": "b8defc97",
   "metadata": {},
   "outputs": [],
   "source": [
    "\"\"\"\n",
    "Every function in Python returns something. \n",
    "If the function doesn't have any return statement, \n",
    "then it returns None \n",
    "\n",
    "As you can see in the example below\n",
    "the function is printing the value\n",
    "but when the out pout is assigned toi somthing\n",
    "then the function is returning none\n",
    "\"\"\""
   ]
  },
  {
   "cell_type": "code",
   "execution_count": 7,
   "id": "d75c053f",
   "metadata": {},
   "outputs": [
    {
     "name": "stdout",
     "output_type": "stream",
     "text": [
      "50\n",
      "None\n"
     ]
    }
   ],
   "source": [
    "def test2():\n",
    "    a = 50\n",
    "    print(a)\n",
    "\n",
    "output = test2()\n",
    "output\n",
    "print(output)"
   ]
  },
  {
   "cell_type": "code",
   "execution_count": 9,
   "id": "e6d493be",
   "metadata": {},
   "outputs": [
    {
     "ename": "TypeError",
     "evalue": "int() argument must be a string, a bytes-like object or a number, not 'NoneType'",
     "output_type": "error",
     "traceback": [
      "\u001b[1;31m---------------------------------------------------------------------------\u001b[0m",
      "\u001b[1;31mTypeError\u001b[0m                                 Traceback (most recent call last)",
      "\u001b[1;32m~\\AppData\\Local\\Temp\\ipykernel_6992\\1770234718.py\u001b[0m in \u001b[0;36m<module>\u001b[1;34m\u001b[0m\n\u001b[1;32m----> 1\u001b[1;33m \u001b[0mb\u001b[0m \u001b[1;33m=\u001b[0m \u001b[0mint\u001b[0m\u001b[1;33m(\u001b[0m\u001b[0moutput\u001b[0m\u001b[1;33m)\u001b[0m \u001b[1;33m+\u001b[0m \u001b[1;36m1\u001b[0m\u001b[1;33m\u001b[0m\u001b[1;33m\u001b[0m\u001b[0m\n\u001b[0m\u001b[0;32m      2\u001b[0m \u001b[0mb\u001b[0m\u001b[1;33m\u001b[0m\u001b[1;33m\u001b[0m\u001b[0m\n",
      "\u001b[1;31mTypeError\u001b[0m: int() argument must be a string, a bytes-like object or a number, not 'NoneType'"
     ]
    }
   ],
   "source": [
    "b = int(output) + 1\n",
    "b"
   ]
  },
  {
   "cell_type": "markdown",
   "id": "13daa201",
   "metadata": {},
   "source": [
    "9. How do you make a function variable refer to the global variable?"
   ]
  },
  {
   "cell_type": "code",
   "execution_count": 29,
   "id": "e0132733",
   "metadata": {},
   "outputs": [
    {
     "name": "stdout",
     "output_type": "stream",
     "text": [
      "hello\n"
     ]
    },
    {
     "data": {
      "text/plain": [
       "'hello'"
      ]
     },
     "execution_count": 29,
     "metadata": {},
     "output_type": "execute_result"
    }
   ],
   "source": [
    "# Example 1\n",
    "\n",
    "x = \"Hi\"\n",
    "def myfunc2():\n",
    "    global x\n",
    "    x = \"hello\"\n",
    "    return x\n",
    "\n",
    "print(myfunc2())\n",
    "x "
   ]
  },
  {
   "cell_type": "code",
   "execution_count": 30,
   "id": "00c59078",
   "metadata": {},
   "outputs": [
    {
     "name": "stdout",
     "output_type": "stream",
     "text": [
      "hello\n"
     ]
    },
    {
     "data": {
      "text/plain": [
       "'Hi'"
      ]
     },
     "execution_count": 30,
     "metadata": {},
     "output_type": "execute_result"
    }
   ],
   "source": [
    "# Example 2\n",
    "\n",
    "x = \"Hi\"\n",
    "def myfunc2():\n",
    "    x = \"hello\"\n",
    "    return x\n",
    "\n",
    "print(myfunc2())\n",
    "x "
   ]
  },
  {
   "cell_type": "code",
   "execution_count": null,
   "id": "af6643c6",
   "metadata": {},
   "outputs": [],
   "source": [
    "\"\"\"\n",
    "In the above 2 examples,\n",
    "we can see how to refer to the global variable inside a function\n",
    "and change the global variable's value\n",
    "\n",
    "We use global keyword to brind the variable inside the dunction \n",
    "\"\"\""
   ]
  },
  {
   "cell_type": "markdown",
   "id": "17d744eb",
   "metadata": {},
   "source": [
    "10. What is the data type of None?"
   ]
  },
  {
   "cell_type": "code",
   "execution_count": 31,
   "id": "c7b091d8",
   "metadata": {
    "scrolled": false
   },
   "outputs": [
    {
     "data": {
      "text/plain": [
       "''"
      ]
     },
     "execution_count": 31,
     "metadata": {},
     "output_type": "execute_result"
    }
   ],
   "source": [
    "\"\"\"\n",
    "The None keyword is used to define a null value, \n",
    "or no value at all. \n",
    "None is not the same as 0, False, or an empty string. \n",
    "None is a data type of its own (NoneType) and only None can be None.\n",
    "\"\"\""
   ]
  },
  {
   "cell_type": "code",
   "execution_count": 32,
   "id": "b9456a15",
   "metadata": {},
   "outputs": [
    {
     "data": {
      "text/plain": [
       "NoneType"
      ]
     },
     "execution_count": 32,
     "metadata": {},
     "output_type": "execute_result"
    }
   ],
   "source": [
    "type(None)"
   ]
  },
  {
   "cell_type": "markdown",
   "id": "a9953f0e",
   "metadata": {},
   "source": [
    "11. What does the sentence import areallyourpetsnamederic do?"
   ]
  },
  {
   "cell_type": "code",
   "execution_count": 33,
   "id": "f6216498",
   "metadata": {},
   "outputs": [
    {
     "ename": "ModuleNotFoundError",
     "evalue": "No module named 'areallyourpetsnamederic'",
     "output_type": "error",
     "traceback": [
      "\u001b[1;31m---------------------------------------------------------------------------\u001b[0m",
      "\u001b[1;31mModuleNotFoundError\u001b[0m                       Traceback (most recent call last)",
      "\u001b[1;32m~\\AppData\\Local\\Temp\\ipykernel_6992\\51184242.py\u001b[0m in \u001b[0;36m<module>\u001b[1;34m\u001b[0m\n\u001b[1;32m----> 1\u001b[1;33m \u001b[1;32mimport\u001b[0m \u001b[0mareallyourpetsnamederic\u001b[0m\u001b[1;33m\u001b[0m\u001b[1;33m\u001b[0m\u001b[0m\n\u001b[0m",
      "\u001b[1;31mModuleNotFoundError\u001b[0m: No module named 'areallyourpetsnamederic'"
     ]
    }
   ],
   "source": [
    "import areallyourpetsnamederic"
   ]
  },
  {
   "cell_type": "code",
   "execution_count": null,
   "id": "d7a65c0e",
   "metadata": {},
   "outputs": [],
   "source": [
    "\"\"\"\n",
    "Any word after the keybord 'import'\n",
    "python will try to imort that as a module/library\n",
    "\n",
    "But there is no module called areallyourpetsnamederic\n",
    "So error\n",
    "\"\"\""
   ]
  },
  {
   "cell_type": "markdown",
   "id": "8eaf8626",
   "metadata": {},
   "source": [
    "12. If you had a bacon() feature in a spam module, what would you call it after importing spam?"
   ]
  },
  {
   "cell_type": "code",
   "execution_count": null,
   "id": "283cd08c",
   "metadata": {},
   "outputs": [],
   "source": [
    "\"\"\"\n",
    "import spam\n",
    "\n",
    "spam.bacon()    #  to all bacon() feature\n",
    "\"\"\""
   ]
  },
  {
   "cell_type": "markdown",
   "id": "8504551b",
   "metadata": {},
   "source": [
    "13. What can you do to save a programme from crashing if it encounters an error?"
   ]
  },
  {
   "cell_type": "code",
   "execution_count": null,
   "id": "fe1b3572",
   "metadata": {},
   "outputs": [],
   "source": [
    "\"\"\"\n",
    "Use try clause\n",
    "so trhat the programdo not crash even after an error occur\n",
    "\"\"\""
   ]
  },
  {
   "cell_type": "markdown",
   "id": "7c86e670",
   "metadata": {},
   "source": [
    "14. What is the purpose of the try clause? What is the purpose of the except clause?"
   ]
  },
  {
   "cell_type": "code",
   "execution_count": null,
   "id": "a93d3b7e",
   "metadata": {},
   "outputs": [],
   "source": [
    "\"\"\"\n",
    "The try block lets you test a block of code for errors.\n",
    "\n",
    "The except block lets you handle the error.\n",
    "\n",
    "The else block lets you execute code when there is no error.\n",
    "\n",
    "The finally block lets you execute code, regardless of the result of the try- and except blocks.\n",
    "\"\"\""
   ]
  },
  {
   "cell_type": "code",
   "execution_count": null,
   "id": "efd6a446",
   "metadata": {},
   "outputs": [],
   "source": [
    "# Example\n",
    "\n",
    "try:\n",
    "    x = int(input(\"Please enter a number: \"))\n",
    "    y = 100 / x\n",
    "except ValueError:\n",
    "    print(\"Error: there was an error\")\n",
    "except ZeroDivisionError:\n",
    "    print(\"Error: 0 is an invalid number\")\n",
    "except Exception:\n",
    "    print(\"Error: another error occurred\")\n",
    "else:\n",
    "    print(\"Nothing went wrong\")\n",
    "finally:\n",
    "    print(\"Cleanup can go here\")"
   ]
  }
 ],
 "metadata": {
  "kernelspec": {
   "display_name": "Python 3 (ipykernel)",
   "language": "python",
   "name": "python3"
  },
  "language_info": {
   "codemirror_mode": {
    "name": "ipython",
    "version": 3
   },
   "file_extension": ".py",
   "mimetype": "text/x-python",
   "name": "python",
   "nbconvert_exporter": "python",
   "pygments_lexer": "ipython3",
   "version": "3.9.13"
  }
 },
 "nbformat": 4,
 "nbformat_minor": 5
}
