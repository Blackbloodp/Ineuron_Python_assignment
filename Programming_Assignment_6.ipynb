{
  "nbformat": 4,
  "nbformat_minor": 0,
  "metadata": {
    "colab": {
      "provenance": []
    },
    "kernelspec": {
      "name": "python3",
      "display_name": "Python 3"
    },
    "language_info": {
      "name": "python"
    }
  },
  "cells": [
    {
      "cell_type": "markdown",
      "source": [
        "1. Write a Python Program to Display Fibonacci Sequence Using Recursion?"
      ],
      "metadata": {
        "id": "zwdGxU4yv2EV"
      }
    },
    {
      "cell_type": "code",
      "source": [
        "# Function with Recursion\n",
        "def fibonacci(n):\n",
        "  if n <= 1:\n",
        "    return n\n",
        "  else:\n",
        "    return (fibonacci(n-1) + fibonacci(n-2))\n",
        "\n",
        "# Getinging the number of terms till which we want the fibonacci number\n",
        "terms = int(input(\"Enter the number of terms: \"))\n",
        "\n",
        "if terms <= 0:\n",
        "  print(\"enter a positive natural number\")\n",
        "else:\n",
        "  print(\"The fibonacci numbers till \", terms, \"are: \")\n",
        "  for i in range(terms):\n",
        "    print(fibonacci(i),end = \"\\n\")"
      ],
      "metadata": {
        "id": "_ejSrD4AtNoI",
        "colab": {
          "base_uri": "https://localhost:8080/"
        },
        "outputId": "000dfa48-5e9b-4ffd-9840-cf61f395fce7"
      },
      "execution_count": null,
      "outputs": [
        {
          "output_type": "stream",
          "name": "stdout",
          "text": [
            "Enter the number of terms: 15\n",
            "The fibonacci numbers till  15 are: \n",
            "0\n",
            "1\n",
            "1\n",
            "2\n",
            "3\n",
            "5\n",
            "8\n",
            "13\n",
            "21\n",
            "34\n",
            "55\n",
            "89\n",
            "144\n",
            "233\n",
            "377\n"
          ]
        }
      ]
    },
    {
      "cell_type": "markdown",
      "source": [
        "2. Write a Python Program to Find Factorial of Number Using Recursion?"
      ],
      "metadata": {
        "id": "9aqmM4_aSGGk"
      }
    },
    {
      "cell_type": "code",
      "source": [
        "# Function with Recursion\n",
        "\n",
        "def factorial(x):\n",
        "  if x <= 2:\n",
        "    return x\n",
        "  else:\n",
        "    return (x*factorial(x-1))\n",
        "\n",
        "a = int(input(\"Enter any natural number: \"))\n",
        "print(\"Factorial of\", a, \"is:\", factorial(a))\n"
      ],
      "metadata": {
        "colab": {
          "base_uri": "https://localhost:8080/"
        },
        "id": "d8h0zffqPXe3",
        "outputId": "d6a3d5c3-5b0f-4433-93d1-0a24f001c3d6"
      },
      "execution_count": null,
      "outputs": [
        {
          "output_type": "stream",
          "name": "stdout",
          "text": [
            "Enter any natural number: 14\n",
            "Factorial of 14 is: 87178291200\n"
          ]
        }
      ]
    },
    {
      "cell_type": "markdown",
      "source": [
        "3. Write a Python Program to calculate your Body Mass Index?"
      ],
      "metadata": {
        "id": "ynId6DLPVdQ-"
      }
    },
    {
      "cell_type": "code",
      "source": [
        "# The formula for BMI is Mass/ hight^2\n",
        "a = int(input(\"Enter the subject's weight: \"))\n",
        "b = float(input(\"Enter the subject's hight: \"))\n",
        "BMI = a//(b**2)\n",
        "print(\"Body Mass Index of the subject is\",BMI)\n",
        "print(\"Feedback:\")\n",
        "# Subjects weight condition\n",
        "if BMI <= 18.5:\n",
        "  print(\"You are Underweight\")\n",
        "elif 18.5 < BMI <= 25:\n",
        "  print(\"Your weight is normal\")\n",
        "elif 25 < BMI <= 30:\n",
        "  print(\"You are Overweight\")\n",
        "elif 30 < BMI <= 35:\n",
        "  print(\"You are Obese\")\n",
        "elif BMI > 35:\n",
        "  print(\"You are Extremly Obese\")"
      ],
      "metadata": {
        "colab": {
          "base_uri": "https://localhost:8080/"
        },
        "id": "56b5xjBtTwyu",
        "outputId": "f45fe848-90ea-4dc5-e98a-d904d65b8ac0"
      },
      "execution_count": null,
      "outputs": [
        {
          "output_type": "stream",
          "name": "stdout",
          "text": [
            "Enter the subject's weight: 110\n",
            "Enter the subject's hight: 1.9\n",
            "Body Mass Index of the subject is 30.0\n",
            "Feedback:\n",
            "You are Overweight\n"
          ]
        }
      ]
    },
    {
      "cell_type": "markdown",
      "source": [
        "4. Write a Python Program to calculate the natural logarithm of any number?"
      ],
      "metadata": {
        "id": "a-wXyyQMYlEO"
      }
    },
    {
      "cell_type": "code",
      "source": [
        "# In Natural Log we have to import math module\n",
        "\n",
        "import math\n",
        "\n",
        "a = float(input(\"Enter the number:\"))\n",
        "print(\"Natural log of\", a, \"is\", math.log(a))\n",
        "\n"
      ],
      "metadata": {
        "colab": {
          "base_uri": "https://localhost:8080/"
        },
        "id": "xunYOEI2WTqd",
        "outputId": "9b3f37d4-8eb3-445b-e568-d0cf8bc3e3b7"
      },
      "execution_count": null,
      "outputs": [
        {
          "output_type": "stream",
          "name": "stdout",
          "text": [
            "Enter the number:5\n",
            "Natural log of 5.0 is 1.6094379124341003\n"
          ]
        }
      ]
    },
    {
      "cell_type": "markdown",
      "source": [
        "5. Write a Python Program for cube sum of first n natural numbers?"
      ],
      "metadata": {
        "id": "4qEAC8faee2X"
      }
    },
    {
      "cell_type": "code",
      "source": [
        "n = int(input(\"Enter any natural number\"))\n",
        "ans = 0\n",
        "for i in range(n+1):\n",
        "  ans = i**3 + ans\n",
        "print(\"The cube sum of first\", n, \"natural number is:\", ans)"
      ],
      "metadata": {
        "colab": {
          "base_uri": "https://localhost:8080/"
        },
        "id": "eos4253yeEuv",
        "outputId": "508a4448-d6d3-4c8b-ed1f-4212053473ab"
      },
      "execution_count": null,
      "outputs": [
        {
          "output_type": "stream",
          "name": "stdout",
          "text": [
            "Enter any natural number5\n",
            "The cube sum of 5 natural number is: 225\n"
          ]
        }
      ]
    }
  ]
}