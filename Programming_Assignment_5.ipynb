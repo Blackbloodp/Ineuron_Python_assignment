{
 "cells": [
  {
   "cell_type": "markdown",
   "id": "ae9031b6",
   "metadata": {},
   "source": [
    "1. Write a Python Program to Find LCM?"
   ]
  },
  {
   "cell_type": "code",
   "execution_count": 14,
   "id": "679c4136",
   "metadata": {},
   "outputs": [
    {
     "name": "stdout",
     "output_type": "stream",
     "text": [
      "Enter the first natural number: 12\n",
      "Enter the second natural number: 14\n",
      "The LCM of 12 and 14 is 84\n"
     ]
    }
   ],
   "source": [
    "# Find the LCM of 2 numbers\n",
    "a = int(input(\"Enter the first natural number: \"))\n",
    "b = int(input(\"Enter the second natural number: \"))\n",
    "m_a = 0\n",
    "m_b = 1\n",
    "if a <= 0 or b <= 0:\n",
    "    print(\"The number you have entered is not a natural number\")\n",
    "else:\n",
    "    for i in range(1,a*b+1):\n",
    "        if m_a == m_b:\n",
    "            break\n",
    "        m_a = a\n",
    "        m_a = a*i        \n",
    "        for j in range(1,i):\n",
    "            m_b = b\n",
    "            m_b = b*j\n",
    "            if m_a == m_b:\n",
    "                print(\"The LCM of\",a, \"and\", b, \"is\", m_a)\n",
    "                break"
   ]
  },
  {
   "cell_type": "code",
   "execution_count": 15,
   "id": "60a45120",
   "metadata": {},
   "outputs": [
    {
     "name": "stdout",
     "output_type": "stream",
     "text": [
      "Enter the first natural number: 15\n",
      "Enter the second natural number: 20\n",
      "The LCM of 15 and 20 is 60\n"
     ]
    }
   ],
   "source": [
    "# Shorter Method\n",
    "\n",
    "a = int(input(\"Enter the first natural number: \"))\n",
    "b = int(input(\"Enter the second natural number: \"))\n",
    "for i in range(max(a,b),1+(a*b),max(a,b)):\n",
    "    if i % a == 0 and i % b == 0:\n",
    "        value = i\n",
    "        break\n",
    "print(\"The LCM of\",a, \"and\", b, \"is\", value)"
   ]
  },
  {
   "cell_type": "markdown",
   "id": "c2262b3d",
   "metadata": {},
   "source": [
    "2. Write a Python Program to Find HCF?"
   ]
  },
  {
   "cell_type": "code",
   "execution_count": 33,
   "id": "e094ed1f",
   "metadata": {},
   "outputs": [
    {
     "name": "stdout",
     "output_type": "stream",
     "text": [
      "Enter the first natural number: 36\n",
      "Enter the second natural number: 27\n",
      "The HCF of 36 and 27 is 9\n"
     ]
    }
   ],
   "source": [
    "# Find the HCF of 2 numbers\n",
    "x = int(input(\"Enter the first natural number: \"))\n",
    "y = int(input(\"Enter the second natural number: \"))\n",
    "v = 1\n",
    "if x <= 0 or y <= 0:\n",
    "    print(\"The number you have entered is not a natural number\")\n",
    "else:\n",
    "    for i in range(1,1+min(x,y)):\n",
    "        if x % i == 0 and y % i == 0:\n",
    "            v = i\n",
    "print(\"The HCF of\",x, \"and\", y, \"is\", v)"
   ]
  },
  {
   "cell_type": "markdown",
   "id": "1b569242",
   "metadata": {},
   "source": [
    "3. Write a Python Program to Convert Decimal to Binary, Octal and Hexadecimal?"
   ]
  },
  {
   "cell_type": "code",
   "execution_count": 28,
   "id": "61c0bde2",
   "metadata": {},
   "outputs": [
    {
     "name": "stdout",
     "output_type": "stream",
     "text": [
      "Enter any natural number: 86\n",
      "Binary: \n",
      "1010110"
     ]
    }
   ],
   "source": [
    "a = int(input(\"Enter any natural number: \"))\n",
    "r = []\n",
    "# Binary\n",
    "while a > 0:\n",
    "    b = a % 2\n",
    "    a = a//2  ## Floor Operator to round off the resultant\n",
    "    r.append(b)\n",
    "r.reverse()\n",
    "print(\"Binary: \")\n",
    "for i in r:\n",
    "    print(i,end = \"\")"
   ]
  },
  {
   "cell_type": "code",
   "execution_count": 29,
   "id": "ce3cf53c",
   "metadata": {},
   "outputs": [
    {
     "name": "stdout",
     "output_type": "stream",
     "text": [
      "Enter any natural number: 456\n",
      "Octal: \n",
      "710"
     ]
    }
   ],
   "source": [
    "a = int(input(\"Enter any natural number: \"))\n",
    "r = []\n",
    "# Octal\n",
    "while a > 0:\n",
    "    b = a % 8\n",
    "    a = a//8  ## Floor Operator to round off the resultant\n",
    "    r.append(b)\n",
    "r.reverse()\n",
    "print(\"Octal: \")\n",
    "for i in r:\n",
    "    print(i,end = \"\")"
   ]
  },
  {
   "cell_type": "code",
   "execution_count": 27,
   "id": "37ba75e2",
   "metadata": {},
   "outputs": [
    {
     "name": "stdout",
     "output_type": "stream",
     "text": [
      "Enter any natural number: 7562\n",
      "Hexadecimal:  1D8A\n"
     ]
    }
   ],
   "source": [
    "a = int(input(\"Enter any natural number: \"))\n",
    "r = \"\"\n",
    "# Here we need a conversation table becuase of charectors\n",
    "conversion_table = ['0', '1', '2', '3', '4', '5', '6', '7', '8', '9', 'A' , 'B', 'C', 'D', 'E', 'F']\n",
    "# Hexadecimal\n",
    "while a > 0:\n",
    "    b = a % 16\n",
    "    r = conversion_table[b] + r\n",
    "    a = a//16  ## Floor Operator to round off the resultant\n",
    "print(\"Hexadecimal: \",r)"
   ]
  },
  {
   "cell_type": "code",
   "execution_count": 24,
   "id": "1594b0a8",
   "metadata": {},
   "outputs": [
    {
     "data": {
      "text/plain": [
       "'0x1d8a'"
      ]
     },
     "execution_count": 24,
     "metadata": {},
     "output_type": "execute_result"
    }
   ],
   "source": [
    "# Python also has an inbult function for Hexadecimal conversion\n",
    "hex(7562)"
   ]
  },
  {
   "cell_type": "markdown",
   "id": "4802be37",
   "metadata": {},
   "source": [
    "4. Write a Python Program To Find ASCII value of a character?"
   ]
  },
  {
   "cell_type": "code",
   "execution_count": 1,
   "id": "19386c68",
   "metadata": {},
   "outputs": [
    {
     "name": "stdout",
     "output_type": "stream",
     "text": [
      "Enter any character: jhcjdhcjd_okdc\n",
      "Cha \t ASCII\n",
      "j \t 106\n",
      "h \t 104\n",
      "c \t 99\n",
      "j \t 106\n",
      "d \t 100\n",
      "h \t 104\n",
      "c \t 99\n",
      "j \t 106\n",
      "d \t 100\n",
      "_ \t 95\n",
      "o \t 111\n",
      "k \t 107\n",
      "d \t 100\n",
      "c \t 99\n"
     ]
    }
   ],
   "source": [
    "# The 2 function of finding the ASCII value is \n",
    "# chr() which is used for integer values\n",
    "# ord() which is used for albhabhets\n",
    "\n",
    "a = input(\"Enter any character: \")\n",
    "\n",
    "print(\"Cha\",\"\\t\",\"ASCII\")\n",
    "for i in a:\n",
    "  b = ord(i)\n",
    "  print(i, \"\\t\", b)"
   ]
  },
  {
   "cell_type": "markdown",
   "id": "eee8bfa1",
   "metadata": {},
   "source": [
    "5. Write a Python Program to Make a Simple Calculator with 4 basic mathematical operations?"
   ]
  },
  {
   "cell_type": "code",
   "execution_count": 3,
   "id": "fc4c4930",
   "metadata": {},
   "outputs": [
    {
     "name": "stdout",
     "output_type": "stream",
     "text": [
      "Enter the first number: 5120\n",
      "Enter the second number: 456\n",
      "4 operators:\n",
      "1. Add\n",
      "2. Substract\n",
      "3. Multiply\n",
      "4. Devide\n",
      "Enter the operator you want to use (1/2/3/4): \n",
      "4\n",
      "Dividing  5120  with  456  is  11.228070175438596\n"
     ]
    }
   ],
   "source": [
    "## To make a calculator with 4 basic function like add, substract, multiply and devide\n",
    "# This can be achived by creating 4 different functions \n",
    "# But in those function as well we will use the operatios so no need to create the functions\n",
    "# with just the if and elif loop we can create the calculator\n",
    "\n",
    "a1 = int(input(\"Enter the first number: \"))\n",
    "a2 = int(input(\"Enter the second number: \"))\n",
    "\n",
    "print(\"4 operators:\")\n",
    "print(\"1. Add\")\n",
    "print(\"2. Substract\")\n",
    "print(\"3. Multiply\")\n",
    "print(\"4. Devide\")\n",
    "print(\"Enter the operator you want to use (1/2/3/4): \")\n",
    "b = input()\n",
    "\n",
    "if b == '1':\n",
    "  print(\"Addition of \", a1,\" & \", a2 ,\" gives \",a1+a2)\n",
    "elif b == '2':\n",
    "  print(\"Substraction of \", a2,\" from \", a1 ,\" will result in \",a1-a2)\n",
    "elif b == '3':\n",
    "  print(\"Multiplying \", a1,\" & \", a2 ,\" gives \",a1*a2)\n",
    "elif b == '4':\n",
    "  print(\"Dividing \", a1,\" with \", a2 ,\" is \",a1/a2)\n",
    "else:\n",
    "  print(\"Invalid input\")"
   ]
  }
 ],
 "metadata": {
  "kernelspec": {
   "display_name": "Python 3 (ipykernel)",
   "language": "python",
   "name": "python3"
  },
  "language_info": {
   "codemirror_mode": {
    "name": "ipython",
    "version": 3
   },
   "file_extension": ".py",
   "mimetype": "text/x-python",
   "name": "python",
   "nbconvert_exporter": "python",
   "pygments_lexer": "ipython3",
   "version": "3.9.13"
  }
 },
 "nbformat": 4,
 "nbformat_minor": 5
}
