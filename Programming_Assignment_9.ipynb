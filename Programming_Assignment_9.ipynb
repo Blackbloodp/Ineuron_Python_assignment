{
 "cells": [
  {
   "cell_type": "markdown",
   "id": "a472b439",
   "metadata": {},
   "source": [
    "1. Write a Python program to check if the given number is a Disarium Number?"
   ]
  },
  {
   "cell_type": "code",
   "execution_count": 3,
   "id": "d390c04d",
   "metadata": {},
   "outputs": [
    {
     "data": {
      "text/plain": [
       "False"
      ]
     },
     "execution_count": 3,
     "metadata": {},
     "output_type": "execute_result"
    }
   ],
   "source": [
    "def is_disarium(a: int):\n",
    "    b = str(a)\n",
    "    x = 0\n",
    "    y = 1\n",
    "    result = 0\n",
    "    for i in b:\n",
    "        x = pow(int(i),y)\n",
    "        y += 1\n",
    "        result += x\n",
    "    if result == a:\n",
    "        return True\n",
    "    else:\n",
    "        return False\n",
    "    \n",
    "is_disarium(12)"
   ]
  },
  {
   "cell_type": "markdown",
   "id": "8538acbd",
   "metadata": {},
   "source": [
    "2. Write a Python program to print all disarium numbers between 1 to 100?"
   ]
  },
  {
   "cell_type": "code",
   "execution_count": 10,
   "id": "8c197361",
   "metadata": {},
   "outputs": [
    {
     "data": {
      "text/plain": [
       "[0, 1, 2, 3, 4, 5, 6, 7, 8, 9, 89]"
      ]
     },
     "execution_count": 10,
     "metadata": {},
     "output_type": "execute_result"
    }
   ],
   "source": [
    "def is_disarium_till(a: int):\n",
    "    result_list = []\n",
    "    for i in range(a+1):\n",
    "        b = str(i)\n",
    "        x = 0\n",
    "        y = 1\n",
    "        result = 0\n",
    "        for j in b:\n",
    "            x = pow(int(j),y)\n",
    "            y += 1\n",
    "            result += x\n",
    "        if result == i:\n",
    "            result_list.append(i)\n",
    "        else:\n",
    "            continue\n",
    "    return result_list\n",
    "\n",
    "is_disarium_till(100)"
   ]
  },
  {
   "cell_type": "markdown",
   "id": "c09de138",
   "metadata": {},
   "source": [
    "3. Write a Python program to check if the given number is Happy Number?"
   ]
  },
  {
   "cell_type": "code",
   "execution_count": 9,
   "id": "70d190ea",
   "metadata": {},
   "outputs": [],
   "source": [
    "def is_happy_number(num):\n",
    "    seen_numbers = set()\n",
    "\n",
    "    while num != 1 and num not in seen_numbers:\n",
    "        seen_numbers.add(num)\n",
    "        num = sum(int(i) ** 2 for i in str(num))\n",
    "\n",
    "    return num == 1\n",
    "            "
   ]
  },
  {
   "cell_type": "code",
   "execution_count": 12,
   "id": "01d34b6e",
   "metadata": {},
   "outputs": [
    {
     "data": {
      "text/plain": [
       "False"
      ]
     },
     "execution_count": 12,
     "metadata": {},
     "output_type": "execute_result"
    }
   ],
   "source": [
    "is_happy_number(99)"
   ]
  },
  {
   "cell_type": "markdown",
   "id": "df15ca85",
   "metadata": {},
   "source": [
    "4. Write a Python program to print all happy numbers between 1 and 100?"
   ]
  },
  {
   "cell_type": "code",
   "execution_count": 13,
   "id": "b3727612",
   "metadata": {},
   "outputs": [],
   "source": [
    "def is_happy_number_till(num):\n",
    "    result_list1 = []\n",
    "    for i in range(num+1):\n",
    "        if is_happy_number(i) == True:\n",
    "            result_list1.append(i)\n",
    "        else:\n",
    "            continue\n",
    "    return result_list1"
   ]
  },
  {
   "cell_type": "code",
   "execution_count": 14,
   "id": "7d4dcb7b",
   "metadata": {},
   "outputs": [
    {
     "data": {
      "text/plain": [
       "[1, 7, 10, 13, 19, 23, 28, 31, 32, 44, 49, 68, 70, 79, 82, 86, 91, 94, 97, 100]"
      ]
     },
     "execution_count": 14,
     "metadata": {},
     "output_type": "execute_result"
    }
   ],
   "source": [
    "is_happy_number_till(100)"
   ]
  },
  {
   "cell_type": "markdown",
   "id": "1a678af0",
   "metadata": {},
   "source": [
    "5. Write a Python program to determine whether the given number is a Harshad Number?"
   ]
  },
  {
   "cell_type": "code",
   "execution_count": 15,
   "id": "71cbc993",
   "metadata": {},
   "outputs": [],
   "source": [
    "def is_harshad_number(x):\n",
    "    num = sum(int(i) for i in str(x))\n",
    "    if x % num == 0:\n",
    "        return True\n",
    "    else:\n",
    "        return False"
   ]
  },
  {
   "cell_type": "code",
   "execution_count": 17,
   "id": "c7fea1f8",
   "metadata": {},
   "outputs": [
    {
     "data": {
      "text/plain": [
       "False"
      ]
     },
     "execution_count": 17,
     "metadata": {},
     "output_type": "execute_result"
    }
   ],
   "source": [
    "is_harshad_number(31)"
   ]
  },
  {
   "cell_type": "markdown",
   "id": "51b938d4",
   "metadata": {},
   "source": [
    "6. Write a Python program to print all pronic numbers between 1 and 100?"
   ]
  },
  {
   "cell_type": "code",
   "execution_count": 30,
   "id": "e2cad37e",
   "metadata": {},
   "outputs": [],
   "source": [
    "def pronic_number_till(x):\n",
    "    result_list2 = []\n",
    "    for i in range(1,x):\n",
    "        result_list2.append(i * (i+1))\n",
    "        if max(result_list2) > 100:\n",
    "            result_list2.pop(len(result_list2) -1 )\n",
    "            return result_list2\n",
    "            break"
   ]
  },
  {
   "cell_type": "code",
   "execution_count": 31,
   "id": "ebe8c0d3",
   "metadata": {},
   "outputs": [
    {
     "data": {
      "text/plain": [
       "[2, 6, 12, 20, 30, 42, 56, 72, 90]"
      ]
     },
     "execution_count": 31,
     "metadata": {},
     "output_type": "execute_result"
    }
   ],
   "source": [
    "pronic_number_till(100)"
   ]
  }
 ],
 "metadata": {
  "kernelspec": {
   "display_name": "Python 3 (ipykernel)",
   "language": "python",
   "name": "python3"
  },
  "language_info": {
   "codemirror_mode": {
    "name": "ipython",
    "version": 3
   },
   "file_extension": ".py",
   "mimetype": "text/x-python",
   "name": "python",
   "nbconvert_exporter": "python",
   "pygments_lexer": "ipython3",
   "version": "3.11.4"
  }
 },
 "nbformat": 4,
 "nbformat_minor": 5
}
