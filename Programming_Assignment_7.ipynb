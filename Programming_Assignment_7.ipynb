{
 "cells": [
  {
   "cell_type": "markdown",
   "id": "6f836372",
   "metadata": {},
   "source": [
    "1. Write a Python Program to find sum of array?"
   ]
  },
  {
   "cell_type": "code",
   "execution_count": 1,
   "id": "4f88aa07",
   "metadata": {},
   "outputs": [],
   "source": [
    "def list_add(a = list):\n",
    "    if type(a) == list:\n",
    "        Sum = 0\n",
    "        for i in a:\n",
    "            Sum = Sum + i\n",
    "        return Sum\n",
    "    else:\n",
    "        print(f\"{a} is not a list\")"
   ]
  },
  {
   "cell_type": "code",
   "execution_count": 2,
   "id": "f7afd182",
   "metadata": {},
   "outputs": [
    {
     "data": {
      "text/plain": [
       "157"
      ]
     },
     "execution_count": 2,
     "metadata": {},
     "output_type": "execute_result"
    }
   ],
   "source": [
    "list1 = [1,2,3,67,84]\n",
    "list_add(list1)"
   ]
  },
  {
   "cell_type": "markdown",
   "id": "31dba429",
   "metadata": {},
   "source": [
    "2. Write a Python Program to find largest element in an array?"
   ]
  },
  {
   "cell_type": "code",
   "execution_count": 8,
   "id": "caae3270",
   "metadata": {},
   "outputs": [],
   "source": [
    "# using Max function\n",
    "\n",
    "def list_max(a = list):\n",
    "    if type(a) == list:\n",
    "        return max(a)\n",
    "    else:\n",
    "        print(f\"{a} is not a list\")    "
   ]
  },
  {
   "cell_type": "code",
   "execution_count": 9,
   "id": "4f210d8f",
   "metadata": {},
   "outputs": [
    {
     "data": {
      "text/plain": [
       "84"
      ]
     },
     "execution_count": 9,
     "metadata": {},
     "output_type": "execute_result"
    }
   ],
   "source": [
    "list_max(list1)"
   ]
  },
  {
   "cell_type": "code",
   "execution_count": 10,
   "id": "010c4701",
   "metadata": {},
   "outputs": [],
   "source": [
    "# Hard Coading\n",
    "\n",
    "def list_max1(a = list):\n",
    "    if type(a) == list:\n",
    "        x = 0\n",
    "        for i in a:\n",
    "            if i > x:\n",
    "                x = i\n",
    "        return x\n",
    "    else:\n",
    "        print(f\"{a} is not a list\")  "
   ]
  },
  {
   "cell_type": "code",
   "execution_count": 11,
   "id": "f3b37b9c",
   "metadata": {},
   "outputs": [
    {
     "data": {
      "text/plain": [
       "84"
      ]
     },
     "execution_count": 11,
     "metadata": {},
     "output_type": "execute_result"
    }
   ],
   "source": [
    "list_max1(list1)"
   ]
  },
  {
   "cell_type": "markdown",
   "id": "a12c35fc",
   "metadata": {},
   "source": [
    "3. Write a Python Program for array rotation?"
   ]
  },
  {
   "cell_type": "code",
   "execution_count": 24,
   "id": "d37619b9",
   "metadata": {},
   "outputs": [],
   "source": [
    "def list_rotation(a = list):\n",
    "    if type(a) == list:\n",
    "        x = []\n",
    "        for i in range(len(a)-1,-1,-1):\n",
    "            x.append(a[i])\n",
    "        return x\n",
    "    else:\n",
    "        print(f\"{a} is not a list\")      "
   ]
  },
  {
   "cell_type": "code",
   "execution_count": 25,
   "id": "723c082a",
   "metadata": {},
   "outputs": [
    {
     "data": {
      "text/plain": [
       "[84, 67, 3, 2, 1]"
      ]
     },
     "execution_count": 25,
     "metadata": {},
     "output_type": "execute_result"
    }
   ],
   "source": [
    "list_rotation(list1)"
   ]
  },
  {
   "cell_type": "markdown",
   "id": "d5e7dbb2",
   "metadata": {},
   "source": [
    "4. Write a Python Program to Split the array and add the first part to the end?"
   ]
  },
  {
   "cell_type": "code",
   "execution_count": 64,
   "id": "6831a337",
   "metadata": {},
   "outputs": [],
   "source": [
    "def list_split_add(a = list):\n",
    "    if type(a) == list:\n",
    "        # using slicing\n",
    "        x = a[0:int(len(a)/2)]\n",
    "        # Hard coading\n",
    "        # for i in range(0,int(len(a)/2)-1):\n",
    "        #     x.append(a[i])\n",
    "         \n",
    "        # removing the split falues form the list\n",
    "        for j in x:\n",
    "            a.remove(j)\n",
    "            \n",
    "        # appending the to be splited values\n",
    "        for i in x:\n",
    "            a.append(i)\n",
    "            \n",
    "        return a\n",
    "    else:\n",
    "        print(f\"{a} is not a list\") \n",
    "        "
   ]
  },
  {
   "cell_type": "code",
   "execution_count": 67,
   "id": "477874a8",
   "metadata": {},
   "outputs": [
    {
     "data": {
      "text/plain": [
       "[67, 84, 90, 1, 2, 3]"
      ]
     },
     "execution_count": 67,
     "metadata": {},
     "output_type": "execute_result"
    }
   ],
   "source": [
    "list1 = [1,2,3,67,84,90]\n",
    "list_split_add(list1)"
   ]
  },
  {
   "cell_type": "markdown",
   "id": "856837d4",
   "metadata": {},
   "source": [
    "5. Write a Python Program to check if given array is Monotonic?"
   ]
  },
  {
   "cell_type": "code",
   "execution_count": 4,
   "id": "f7d51f1f",
   "metadata": {},
   "outputs": [],
   "source": [
    "# For Monotonic \n",
    "# we need to check both in assending and desending order\n",
    "\n",
    "def check_monotonic(a = list):\n",
    "    if type(a) == list:\n",
    "        asc = desc = True\n",
    "        for i in range(1,len(a)):\n",
    "            if a[i-1] > a[i]:\n",
    "                asc = False\n",
    "            if a[i-1] < a[i]:\n",
    "                desc = False\n",
    "        return asc or desc\n",
    "    else:\n",
    "        print(f\"{a} is not a list\")        "
   ]
  },
  {
   "cell_type": "code",
   "execution_count": 6,
   "id": "8a53dcce",
   "metadata": {},
   "outputs": [
    {
     "name": "stdout",
     "output_type": "stream",
     "text": [
      "True\n",
      "True\n",
      "False\n"
     ]
    }
   ],
   "source": [
    "list1 = [1,2,3,67,84,90]\n",
    "list2 = [9,6,5,4,2,1,0]\n",
    "list3 = [1,2,3,4,5,2,3]\n",
    "print(check_monotonic(list1))\n",
    "print(check_monotonic(list2))\n",
    "print(check_monotonic(list3))"
   ]
  },
  {
   "cell_type": "code",
   "execution_count": null,
   "id": "2988144f",
   "metadata": {},
   "outputs": [],
   "source": []
  }
 ],
 "metadata": {
  "kernelspec": {
   "display_name": "Python 3 (ipykernel)",
   "language": "python",
   "name": "python3"
  },
  "language_info": {
   "codemirror_mode": {
    "name": "ipython",
    "version": 3
   },
   "file_extension": ".py",
   "mimetype": "text/x-python",
   "name": "python",
   "nbconvert_exporter": "python",
   "pygments_lexer": "ipython3",
   "version": "3.11.4"
  }
 },
 "nbformat": 4,
 "nbformat_minor": 5
}
